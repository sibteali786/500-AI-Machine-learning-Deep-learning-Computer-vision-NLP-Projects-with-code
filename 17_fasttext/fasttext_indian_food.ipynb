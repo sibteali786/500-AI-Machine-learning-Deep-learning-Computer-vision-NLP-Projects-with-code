{
  "cells": [
    {
      "cell_type": "markdown",
      "metadata": {
        "id": "view-in-github",
        "colab_type": "text"
      },
      "source": [
        "<a href=\"https://colab.research.google.com/github/sibteali786/500-AI-Machine-learning-Deep-learning-Computer-vision-NLP-Projects-with-code/blob/main/17_fasttext/fasttext_indian_food.ipynb\" target=\"_parent\"><img src=\"https://colab.research.google.com/assets/colab-badge.svg\" alt=\"Open In Colab\"/></a>"
      ]
    },
    {
      "cell_type": "markdown",
      "id": "9fc69a91",
      "metadata": {
        "id": "9fc69a91"
      },
      "source": [
        "<h3>Download and explore pre-trained models</h3>"
      ]
    },
    {
      "cell_type": "markdown",
      "id": "801bc8a9",
      "metadata": {
        "id": "801bc8a9"
      },
      "source": [
        "##### (1) Explore English Model"
      ]
    },
    {
      "cell_type": "code",
      "source": [
        "!pip install fasttext"
      ],
      "metadata": {
        "colab": {
          "base_uri": "https://localhost:8080/"
        },
        "id": "marxx_nBvTqN",
        "outputId": "bf5499a2-098f-4fc8-9444-dd648124c2d4"
      },
      "id": "marxx_nBvTqN",
      "execution_count": 2,
      "outputs": [
        {
          "output_type": "stream",
          "name": "stdout",
          "text": [
            "Collecting fasttext\n",
            "  Downloading fasttext-0.9.3.tar.gz (73 kB)\n",
            "\u001b[?25l     \u001b[90m━━━━━━━━━━━━━━━━━━━━━━━━━━━━━━━━━━━━━━━━\u001b[0m \u001b[32m0.0/73.4 kB\u001b[0m \u001b[31m?\u001b[0m eta \u001b[36m-:--:--\u001b[0m\r\u001b[2K     \u001b[90m━━━━━━━━━━━━━━━━━━━━━━━━━━━━━━━━━━━━━━━━\u001b[0m \u001b[32m73.4/73.4 kB\u001b[0m \u001b[31m4.5 MB/s\u001b[0m eta \u001b[36m0:00:00\u001b[0m\n",
            "\u001b[?25h  Installing build dependencies ... \u001b[?25l\u001b[?25hdone\n",
            "  Getting requirements to build wheel ... \u001b[?25l\u001b[?25hdone\n",
            "  Preparing metadata (pyproject.toml) ... \u001b[?25l\u001b[?25hdone\n",
            "Collecting pybind11>=2.2 (from fasttext)\n",
            "  Using cached pybind11-2.13.6-py3-none-any.whl.metadata (9.5 kB)\n",
            "Requirement already satisfied: setuptools>=0.7.0 in /usr/local/lib/python3.11/dist-packages (from fasttext) (75.2.0)\n",
            "Requirement already satisfied: numpy in /usr/local/lib/python3.11/dist-packages (from fasttext) (2.0.2)\n",
            "Using cached pybind11-2.13.6-py3-none-any.whl (243 kB)\n",
            "Building wheels for collected packages: fasttext\n",
            "  Building wheel for fasttext (pyproject.toml) ... \u001b[?25l\u001b[?25hdone\n",
            "  Created wheel for fasttext: filename=fasttext-0.9.3-cp311-cp311-linux_x86_64.whl size=4313505 sha256=8c4e4c761729575c5fc21720f08c8bf5c0f5fd6e5e32e4934ef1c0dd62ab81d2\n",
            "  Stored in directory: /root/.cache/pip/wheels/65/4f/35/5057db0249224e9ab55a513fa6b79451473ceb7713017823c3\n",
            "Successfully built fasttext\n",
            "Installing collected packages: pybind11, fasttext\n",
            "Successfully installed fasttext-0.9.3 pybind11-2.13.6\n"
          ]
        }
      ]
    },
    {
      "cell_type": "code",
      "execution_count": 5,
      "id": "889e0cc5",
      "metadata": {
        "scrolled": true,
        "colab": {
          "base_uri": "https://localhost:8080/"
        },
        "id": "889e0cc5",
        "outputId": "f66f3ad0-1821-4663-9cd7-254d8ecde3c1"
      },
      "outputs": [
        {
          "output_type": "stream",
          "name": "stdout",
          "text": [
            "Compressed model already exists at cc.en.300.bin.gz. Skipping download.\n",
            "Decompressing cc.en.300.bin.gz...\n",
            "Decompression complete.\n"
          ]
        }
      ],
      "source": [
        "import fasttext\n",
        "import requests\n",
        "import os\n",
        "import gzip # Import the gzip module\n",
        "\n",
        "# Define the URL and the local path to save the compressed model\n",
        "model_url = \"https://dl.fbaipublicfiles.com/fasttext/vectors-crawl/cc.en.300.bin.gz\"\n",
        "local_compressed_model_path = \"cc.en.300.bin.gz\" # Path for the downloaded .gz file\n",
        "local_uncompressed_model_path = \"cc.en.300.bin\" # Path for the uncompressed .bin file\n",
        "\n",
        "# Check if the compressed file already exists to avoid re-downloading\n",
        "if not os.path.exists(local_compressed_model_path):\n",
        "    print(f\"Downloading model from {model_url}...\")\n",
        "    # Download the file\n",
        "    response = requests.get(model_url, stream=True)\n",
        "    response.raise_for_status() # Raise an exception for bad status codes (4xx or 5xx)\n",
        "\n",
        "    # Save the downloaded file\n",
        "    with open(local_compressed_model_path, 'wb') as f:\n",
        "        for chunk in response.iter_content(chunk_size=8192):\n",
        "            f.write(chunk)\n",
        "    print(\"Download complete.\")\n",
        "else:\n",
        "    print(f\"Compressed model already exists at {local_compressed_model_path}. Skipping download.\")\n",
        "\n",
        "# Check if the uncompressed file exists, if not, decompress the .gz file\n",
        "if not os.path.exists(local_uncompressed_model_path):\n",
        "    print(f\"Decompressing {local_compressed_model_path}...\")\n",
        "    with gzip.open(local_compressed_model_path, 'rb') as f_in:\n",
        "        with open(local_uncompressed_model_path, 'wb') as f_out:\n",
        "            f_out.writelines(f_in)\n",
        "    print(\"Decompression complete.\")\n",
        "else:\n",
        "    print(f\"Uncompressed model already exists at {local_uncompressed_model_path}. Skipping decompression.\")\n",
        "\n",
        "\n",
        "# Load the model from the local uncompressed file path\n",
        "model_en = fasttext.load_model(local_uncompressed_model_path)"
      ]
    },
    {
      "cell_type": "code",
      "execution_count": 6,
      "id": "e745e5de",
      "metadata": {
        "colab": {
          "base_uri": "https://localhost:8080/"
        },
        "id": "e745e5de",
        "outputId": "1554a8b4-6bae-47f1-8c0a-a745612c6f52"
      },
      "outputs": [
        {
          "output_type": "execute_result",
          "data": {
            "text/plain": [
              "['__class__',\n",
              " '__contains__',\n",
              " '__delattr__',\n",
              " '__dict__',\n",
              " '__dir__',\n",
              " '__doc__',\n",
              " '__eq__',\n",
              " '__format__',\n",
              " '__ge__',\n",
              " '__getattribute__',\n",
              " '__getitem__',\n",
              " '__getstate__',\n",
              " '__gt__',\n",
              " '__hash__',\n",
              " '__init__',\n",
              " '__init_subclass__',\n",
              " '__le__',\n",
              " '__lt__',\n",
              " '__module__',\n",
              " '__ne__',\n",
              " '__new__',\n",
              " '__reduce__',\n",
              " '__reduce_ex__',\n",
              " '__repr__',\n",
              " '__setattr__',\n",
              " '__sizeof__',\n",
              " '__str__',\n",
              " '__subclasshook__',\n",
              " '__weakref__',\n",
              " '_labels',\n",
              " '_words',\n",
              " 'f',\n",
              " 'get_analogies',\n",
              " 'get_dimension',\n",
              " 'get_input_matrix',\n",
              " 'get_input_vector',\n",
              " 'get_label_id',\n",
              " 'get_labels',\n",
              " 'get_line',\n",
              " 'get_meter',\n",
              " 'get_nearest_neighbors',\n",
              " 'get_output_matrix',\n",
              " 'get_sentence_vector',\n",
              " 'get_subword_id',\n",
              " 'get_subwords',\n",
              " 'get_word_id',\n",
              " 'get_word_vector',\n",
              " 'get_words',\n",
              " 'is_quantized',\n",
              " 'labels',\n",
              " 'predict',\n",
              " 'quantize',\n",
              " 'save_model',\n",
              " 'set_args',\n",
              " 'set_matrices',\n",
              " 'test',\n",
              " 'test_label',\n",
              " 'words']"
            ]
          },
          "metadata": {},
          "execution_count": 6
        }
      ],
      "source": [
        "dir(model_en)"
      ]
    },
    {
      "cell_type": "code",
      "execution_count": 7,
      "id": "a7a15503",
      "metadata": {
        "colab": {
          "base_uri": "https://localhost:8080/"
        },
        "id": "a7a15503",
        "outputId": "42bae579-f9b5-4283-c1c9-d5c063c8cded"
      },
      "outputs": [
        {
          "output_type": "execute_result",
          "data": {
            "text/plain": [
              "(300,)"
            ]
          },
          "metadata": {},
          "execution_count": 7
        }
      ],
      "source": [
        "model_en.get_word_vector(\"good\").shape"
      ]
    },
    {
      "cell_type": "code",
      "execution_count": null,
      "id": "1de3bc3e",
      "metadata": {
        "id": "1de3bc3e"
      },
      "outputs": [],
      "source": [
        "model_en.get_analogies(\"berlin\",\"germany\",\"france\")"
      ]
    },
    {
      "cell_type": "code",
      "execution_count": null,
      "id": "874ae83b",
      "metadata": {
        "id": "874ae83b",
        "outputId": "0d3ae817-08a9-4760-80bc-af6b5a39f4d0"
      },
      "outputs": [
        {
          "data": {
            "text/plain": [
              "[(0.7148876190185547, 'delhi'),\n",
              " (0.6974374055862427, 'mumbai'),\n",
              " (0.648612916469574, 'jaipur'),\n",
              " (0.6349966526031494, 'kolkata'),\n",
              " (0.6279922723770142, 'pune'),\n",
              " (0.6277596354484558, 'bangalore'),\n",
              " (0.6044078469276428, 'hyderabad'),\n",
              " (0.6021745800971985, 'noida'),\n",
              " (0.6018899083137512, 'bhubaneswar'),\n",
              " (0.599077582359314, 'nashik')]"
            ]
          },
          "execution_count": 104,
          "metadata": {},
          "output_type": "execute_result"
        }
      ],
      "source": [
        "model_en.get_analogies(\"berlin\",\"germany\",\"india\")"
      ]
    },
    {
      "cell_type": "code",
      "execution_count": null,
      "id": "d617ad0e",
      "metadata": {
        "id": "d617ad0e",
        "outputId": "a56e4ff1-acfd-4321-8194-d6e0cb9aacb8"
      },
      "outputs": [
        {
          "data": {
            "text/plain": [
              "[(0.610385537147522, 'texting'),\n",
              " (0.5203558802604675, 'phone-calling'),\n",
              " (0.5153835415840149, 'cellphone'),\n",
              " (0.5135326981544495, 'cell-phone'),\n",
              " (0.5117910504341125, 'dialing'),\n",
              " (0.5087355971336365, 'texing'),\n",
              " (0.5079342722892761, 'text-messaging'),\n",
              " (0.500900387763977, 'txting'),\n",
              " (0.4960441589355469, 'texting.'),\n",
              " (0.4951859414577484, 'Texting')]"
            ]
          },
          "execution_count": 107,
          "metadata": {},
          "output_type": "execute_result"
        }
      ],
      "source": [
        "model_en.get_analogies(\"driving\",\"car\",\"phone\")"
      ]
    },
    {
      "cell_type": "code",
      "execution_count": null,
      "id": "59f8c719",
      "metadata": {
        "id": "59f8c719",
        "outputId": "f3388f24-645e-43f7-c852-fb4c6a0dbb92"
      },
      "outputs": [
        {
          "data": {
            "text/plain": [
              "[(0.5302355885505676, 'reading'),\n",
              " (0.517051637172699, 'book.I'),\n",
              " (0.5137901306152344, 'book--and'),\n",
              " (0.5090512633323669, 'book.That'),\n",
              " (0.5005884766578674, 'book--it'),\n",
              " (0.49395182728767395, 'book--I'),\n",
              " (0.49293914437294006, 're-reading'),\n",
              " (0.49156999588012695, 'book.This'),\n",
              " (0.49107635021209717, 'reading--and'),\n",
              " (0.48960915207862854, 'book--the')]"
            ]
          },
          "execution_count": 108,
          "metadata": {},
          "output_type": "execute_result"
        }
      ],
      "source": [
        "model_en.get_analogies(\"driving\",\"car\",\"book\")"
      ]
    },
    {
      "cell_type": "code",
      "execution_count": null,
      "id": "a5e98313",
      "metadata": {
        "id": "a5e98313",
        "outputId": "d4265a9c-7c0f-4d69-a4df-9f9fa01b0fc9"
      },
      "outputs": [
        {
          "data": {
            "text/plain": [
              "[(0.8078702092170715, 'chutneys'),\n",
              " (0.7138292789459229, 'thokku'),\n",
              " (0.701572060585022, 'Chutney'),\n",
              " (0.6875490546226501, 'achaar'),\n",
              " (0.684525728225708, 'piccalilli'),\n",
              " (0.6737173199653625, 'raita'),\n",
              " (0.6715506911277771, 'chatni'),\n",
              " (0.6610829830169678, 'chutney.'),\n",
              " (0.6505922675132751, 'gojju'),\n",
              " (0.6398508548736572, 'kasundi')]"
            ]
          },
          "execution_count": 100,
          "metadata": {},
          "output_type": "execute_result"
        }
      ],
      "source": [
        "model_en.get_nearest_neighbors(\"chutney\")"
      ]
    },
    {
      "cell_type": "code",
      "execution_count": null,
      "id": "041e928b",
      "metadata": {
        "id": "041e928b",
        "outputId": "79461e81-f0f1-4d15-9c43-a9945d714f6b"
      },
      "outputs": [
        {
          "data": {
            "text/plain": [
              "[(0.8563978672027588, 'kheer'),\n",
              " (0.8392286896705627, 'burfi'),\n",
              " (0.8193163871765137, 'Halwa'),\n",
              " (0.7894062995910645, 'kesari'),\n",
              " (0.778471827507019, 'payasam'),\n",
              " (0.7706475853919983, 'burfis'),\n",
              " (0.7590622901916504, 'laddoo'),\n",
              " (0.7504664659500122, 'ladoo'),\n",
              " (0.7471016645431519, 'rabdi'),\n",
              " (0.7396334409713745, 'laddu')]"
            ]
          },
          "execution_count": 113,
          "metadata": {},
          "output_type": "execute_result"
        }
      ],
      "source": [
        "model_en.get_nearest_neighbors(\"halwa\")"
      ]
    },
    {
      "cell_type": "code",
      "execution_count": null,
      "id": "66f816ba",
      "metadata": {
        "scrolled": false,
        "id": "66f816ba",
        "outputId": "bdde016d-c275-4b02-dd13-9d4543630351"
      },
      "outputs": [
        {
          "data": {
            "text/plain": [
              "[(0.5384978652000427,\n",
              "  'ReportsTabloidCrimeYakuzaTokyoGinzaIkebukuroKabukichoRoppongiShibuyaShimbashiShinjukuUenoJapanChibaFukuokaKobeKyotoNagoyaOkinawaOsakaSaitamaYokohamaSportsBaseballHorse'),\n",
              " (0.5373231768608093,\n",
              "  'NoidaVaranasiBareillyMathuraAligarhMoradabadSaharanpurBijnorJaunpurGorakhpurMuzaffarnagarSultanpurDehradunHaridwarNainitalRoorkeeGarhwalBardhamanMurshidabadHooghlyMedinipurNorth'),\n",
              " (0.5331498980522156,\n",
              "  'NagarBhiwaniKarnalKurukshetraMahendragarhSirsaPanipatJindJhajjarRewariSolanShimlaKangraHamirpurMandiJammuSrinagarRanchiJamshedpurMangaloreMysoreBelgaumGulbargaTumkurBijapurDavanagereDharwadShimogaUdupiHassanBidarHubliKolarBagalkotKannadaChitradurgaMandyaGadagBellaryRaichurThiruvananthapuramThrissurErnakulamMalappuramKochiKottayamKannurKozhikodeKollamPalakkadPathanamthittaCalicutTrivandrumAlappuzhaKasaragodBhopalIndoreGwaliorJabalpurUjjainSagarChhatarpurPuneNagpurAurangabadNashikKolhapurAhmed')]"
            ]
          },
          "execution_count": 126,
          "metadata": {},
          "output_type": "execute_result"
        }
      ],
      "source": [
        "model_en.get_nearest_neighbors(\"saragva\", k=3)"
      ]
    },
    {
      "cell_type": "markdown",
      "id": "186c9e7b",
      "metadata": {
        "id": "186c9e7b"
      },
      "source": [
        "##### (2) Explore Hindi Model"
      ]
    },
    {
      "cell_type": "code",
      "execution_count": null,
      "id": "01b14f4c",
      "metadata": {
        "id": "01b14f4c",
        "outputId": "3bcd5f55-dc1c-4d66-e105-3169fcc54772"
      },
      "outputs": [
        {
          "name": "stderr",
          "output_type": "stream",
          "text": [
            "Warning : `load_model` does not return WordVectorModel or SupervisedModel any more, but a `FastText` object which is very similar.\n"
          ]
        }
      ],
      "source": [
        "model_hi = fasttext.load_model('C:\\\\Code\\\\nlp-tutorials\\\\downloads\\\\cc.hi.300.bin')"
      ]
    },
    {
      "cell_type": "code",
      "execution_count": null,
      "id": "673e0e80",
      "metadata": {
        "id": "673e0e80",
        "outputId": "2ae9be94-bc8d-4ee0-b117-4e8c69b43813"
      },
      "outputs": [
        {
          "data": {
            "text/plain": [
              "[(0.6697985529899597, 'बुरा'),\n",
              " (0.6132625341415405, 'अच्छे'),\n",
              " (0.608695387840271, 'अच्चा'),\n",
              " (0.6058669090270996, 'अच्छाखासा'),\n",
              " (0.5848375558853149, 'कीअच्छा'),\n",
              " (0.5826330184936523, 'औरअच्छा'),\n",
              " (0.5811230540275574, 'हो.अच्छा'),\n",
              " (0.5805407762527466, 'हीअच्छा'),\n",
              " (0.5795978307723999, 'लगता'),\n",
              " (0.5777745246887207, '58अच्छा')]"
            ]
          },
          "execution_count": 129,
          "metadata": {},
          "output_type": "execute_result"
        }
      ],
      "source": [
        "model_hi.get_nearest_neighbors(\"अच्छा\")"
      ]
    },
    {
      "cell_type": "code",
      "execution_count": null,
      "id": "921d7fcd",
      "metadata": {
        "id": "921d7fcd",
        "outputId": "c8a241d1-3ba5-4b27-eb33-c6bf517854e1"
      },
      "outputs": [
        {
          "data": {
            "text/plain": [
              "[(0.6485272645950317, 'गायों'),\n",
              " (0.6403631567955017, 'गोमाता'),\n",
              " (0.6264104247093201, 'बछड़े'),\n",
              " (0.6045769453048706, 'बछडे'),\n",
              " (0.6030024886131287, 'दुधारु'),\n",
              " (0.5880257487297058, 'भेंस'),\n",
              " (0.5822192430496216, 'भैंस'),\n",
              " (0.5819100737571716, 'दुधारू'),\n",
              " (0.5773836970329285, 'गौमाता'),\n",
              " (0.5771614909172058, 'गायें')]"
            ]
          },
          "execution_count": 134,
          "metadata": {},
          "output_type": "execute_result"
        }
      ],
      "source": [
        "model_hi.get_nearest_neighbors(\"गाय\")"
      ]
    },
    {
      "cell_type": "markdown",
      "id": "b287e393",
      "metadata": {
        "id": "b287e393"
      },
      "source": [
        "## Custom train word embeddings on indian food receipes 😋\n",
        "\n",
        "dataset credits: https://www.kaggle.com/datasets/sooryaprakash12/cleaned-indian-recipes-dataset"
      ]
    },
    {
      "cell_type": "code",
      "execution_count": null,
      "id": "2630f62a",
      "metadata": {
        "id": "2630f62a",
        "outputId": "013c9895-95a5-4c30-c234-ee443311bc6c"
      },
      "outputs": [
        {
          "name": "stdout",
          "output_type": "stream",
          "text": [
            "(5938, 9)\n"
          ]
        },
        {
          "data": {
            "text/html": [
              "<div>\n",
              "<style scoped>\n",
              "    .dataframe tbody tr th:only-of-type {\n",
              "        vertical-align: middle;\n",
              "    }\n",
              "\n",
              "    .dataframe tbody tr th {\n",
              "        vertical-align: top;\n",
              "    }\n",
              "\n",
              "    .dataframe thead th {\n",
              "        text-align: right;\n",
              "    }\n",
              "</style>\n",
              "<table border=\"1\" class=\"dataframe\">\n",
              "  <thead>\n",
              "    <tr style=\"text-align: right;\">\n",
              "      <th></th>\n",
              "      <th>TranslatedRecipeName</th>\n",
              "      <th>TranslatedIngredients</th>\n",
              "      <th>TotalTimeInMins</th>\n",
              "      <th>Cuisine</th>\n",
              "      <th>TranslatedInstructions</th>\n",
              "      <th>URL</th>\n",
              "      <th>Cleaned-Ingredients</th>\n",
              "      <th>image-url</th>\n",
              "      <th>Ingredient-count</th>\n",
              "    </tr>\n",
              "  </thead>\n",
              "  <tbody>\n",
              "    <tr>\n",
              "      <th>0</th>\n",
              "      <td>Masala Karela Recipe</td>\n",
              "      <td>1 tablespoon Red Chilli powder,3 tablespoon Gr...</td>\n",
              "      <td>45</td>\n",
              "      <td>Indian</td>\n",
              "      <td>To begin making the Masala Karela Recipe,de-se...</td>\n",
              "      <td>https://www.archanaskitchen.com/masala-karela-...</td>\n",
              "      <td>salt,amchur (dry mango powder),karela (bitter ...</td>\n",
              "      <td>https://www.archanaskitchen.com/images/archana...</td>\n",
              "      <td>10</td>\n",
              "    </tr>\n",
              "    <tr>\n",
              "      <th>1</th>\n",
              "      <td>Spicy Tomato Rice (Recipe)</td>\n",
              "      <td>2 teaspoon cashew - or peanuts, 1/2 Teaspoon ...</td>\n",
              "      <td>15</td>\n",
              "      <td>South Indian Recipes</td>\n",
              "      <td>To make tomato puliogere, first cut the tomato...</td>\n",
              "      <td>https://www.archanaskitchen.com/spicy-tomato-r...</td>\n",
              "      <td>tomato,salt,chickpea lentils,green chilli,rice...</td>\n",
              "      <td>https://www.archanaskitchen.com/images/archana...</td>\n",
              "      <td>12</td>\n",
              "    </tr>\n",
              "    <tr>\n",
              "      <th>2</th>\n",
              "      <td>Ragi Semiya Upma Recipe - Ragi Millet Vermicel...</td>\n",
              "      <td>1 Onion - sliced,1 teaspoon White Urad Dal (Sp...</td>\n",
              "      <td>50</td>\n",
              "      <td>South Indian Recipes</td>\n",
              "      <td>To begin making the Ragi Vermicelli Recipe, fi...</td>\n",
              "      <td>https://www.archanaskitchen.com/ragi-vermicell...</td>\n",
              "      <td>salt,rice vermicelli noodles (thin),asafoetida...</td>\n",
              "      <td>https://www.archanaskitchen.com/images/archana...</td>\n",
              "      <td>12</td>\n",
              "    </tr>\n",
              "  </tbody>\n",
              "</table>\n",
              "</div>"
            ],
            "text/plain": [
              "                                TranslatedRecipeName  \\\n",
              "0                               Masala Karela Recipe   \n",
              "1                         Spicy Tomato Rice (Recipe)   \n",
              "2  Ragi Semiya Upma Recipe - Ragi Millet Vermicel...   \n",
              "\n",
              "                               TranslatedIngredients  TotalTimeInMins  \\\n",
              "0  1 tablespoon Red Chilli powder,3 tablespoon Gr...               45   \n",
              "1   2 teaspoon cashew - or peanuts, 1/2 Teaspoon ...               15   \n",
              "2  1 Onion - sliced,1 teaspoon White Urad Dal (Sp...               50   \n",
              "\n",
              "                Cuisine                             TranslatedInstructions  \\\n",
              "0                Indian  To begin making the Masala Karela Recipe,de-se...   \n",
              "1  South Indian Recipes  To make tomato puliogere, first cut the tomato...   \n",
              "2  South Indian Recipes  To begin making the Ragi Vermicelli Recipe, fi...   \n",
              "\n",
              "                                                 URL  \\\n",
              "0  https://www.archanaskitchen.com/masala-karela-...   \n",
              "1  https://www.archanaskitchen.com/spicy-tomato-r...   \n",
              "2  https://www.archanaskitchen.com/ragi-vermicell...   \n",
              "\n",
              "                                 Cleaned-Ingredients  \\\n",
              "0  salt,amchur (dry mango powder),karela (bitter ...   \n",
              "1  tomato,salt,chickpea lentils,green chilli,rice...   \n",
              "2  salt,rice vermicelli noodles (thin),asafoetida...   \n",
              "\n",
              "                                           image-url  Ingredient-count  \n",
              "0  https://www.archanaskitchen.com/images/archana...                10  \n",
              "1  https://www.archanaskitchen.com/images/archana...                12  \n",
              "2  https://www.archanaskitchen.com/images/archana...                12  "
            ]
          },
          "execution_count": 60,
          "metadata": {},
          "output_type": "execute_result"
        }
      ],
      "source": [
        "import pandas as pd\n",
        "\n",
        "df = pd.read_csv(\"Cleaned_Indian_Food_Dataset.csv\")\n",
        "print(df.shape)\n",
        "df.head(3)"
      ]
    },
    {
      "cell_type": "code",
      "execution_count": null,
      "id": "7ff79015",
      "metadata": {
        "id": "7ff79015",
        "outputId": "9d2420ec-9283-4b51-c203-7e8184d92ee7"
      },
      "outputs": [
        {
          "data": {
            "text/plain": [
              "'To begin making the Masala Karela Recipe,de-seed the karela and slice.\\nDo not remove the skin as the skin has all the nutrients.\\nAdd the karela to the pressure cooker with 3 tablespoon of water, salt and turmeric powder and pressure cook for three whistles.\\nRelease the pressure immediately and open the lids.\\nKeep aside.Heat oil in a heavy bottomed pan or a kadhai.\\nAdd cumin seeds and let it sizzle.Once the cumin seeds have sizzled, add onions and saute them till it turns golden brown in color.Add the karela, red chilli powder, amchur powder, coriander powder and besan.\\nStir to combine the masalas into the karela.Drizzle a little extra oil on the top and mix again.\\nCover the pan and simmer Masala Karela stirring occasionally until everything comes together well.\\nTurn off the heat.Transfer Masala Karela into a serving bowl and serve.Serve Masala Karela along with Panchmel Dal and Phulka for a weekday meal with your family.\\n'"
            ]
          },
          "execution_count": 61,
          "metadata": {},
          "output_type": "execute_result"
        }
      ],
      "source": [
        "df.TranslatedInstructions[0]"
      ]
    },
    {
      "cell_type": "code",
      "execution_count": null,
      "id": "4b6e8ebc",
      "metadata": {
        "id": "4b6e8ebc",
        "outputId": "c18ddcb1-85d5-4efb-90bf-50d4d5a59c3b"
      },
      "outputs": [
        {
          "data": {
            "text/plain": [
              "'To begin making the Masala Karela Recipe de seed the karela and slice \\nDo not remove the skin as the skin has all the nutrients \\nAdd the karela to the pressure cooker with 3 tablespoon of water  salt and turmeric powder and pressure cook for three whistles \\nRelease the pressure immediately and open the lids \\nKeep aside Heat oil in a heavy bottomed pan or a kadhai \\nAdd cumin seeds and let it sizzle Once the cumin seeds have sizzled  add onions and saute them till it turns golden brown in color Add the karela  red chilli powder  amchur powder  coriander powder and besan \\nStir to combine the masalas into the karela Drizzle a little extra oil on the top and mix again \\nCover the pan and simmer Masala Karela stirring occasionally until everything comes together well \\nTurn off the heat Transfer Masala Karela into a serving bowl and serve Serve Masala Karela along with Panchmel Dal and Phulka for a weekday meal with your family \\n'"
            ]
          },
          "execution_count": 36,
          "metadata": {},
          "output_type": "execute_result"
        }
      ],
      "source": [
        "import re\n",
        "\n",
        "text = 'To begin making the Masala Karela Recipe,de-seed the karela and slice.\\nDo not remove the skin as the skin has all the nutrients.\\nAdd the karela to the pressure cooker with 3 tablespoon of water, salt and turmeric powder and pressure cook for three whistles.\\nRelease the pressure immediately and open the lids.\\nKeep aside.Heat oil in a heavy bottomed pan or a kadhai.\\nAdd cumin seeds and let it sizzle.Once the cumin seeds have sizzled, add onions and saute them till it turns golden brown in color.Add the karela, red chilli powder, amchur powder, coriander powder and besan.\\nStir to combine the masalas into the karela.Drizzle a little extra oil on the top and mix again.\\nCover the pan and simmer Masala Karela stirring occasionally until everything comes together well.\\nTurn off the heat.Transfer Masala Karela into a serving bowl and serve.Serve Masala Karela along with Panchmel Dal and Phulka for a weekday meal with your family.\\n'\n",
        "\n",
        "re.sub(r\"[^\\w\\s]\", \" \", text, flags=re.MULTILINE)"
      ]
    },
    {
      "cell_type": "code",
      "execution_count": null,
      "id": "4ea1873a",
      "metadata": {
        "id": "4ea1873a"
      },
      "outputs": [],
      "source": [
        "def preprocess(text):\n",
        "    text = re.sub(r'[^\\w\\s\\']',' ', text)\n",
        "    text = re.sub(r'[ \\n]+', ' ', text)\n",
        "    return text.strip().lower()"
      ]
    },
    {
      "cell_type": "code",
      "execution_count": null,
      "id": "c6c0b732",
      "metadata": {
        "id": "c6c0b732",
        "outputId": "bcdffaab-3276-45ac-8b96-108c72828950"
      },
      "outputs": [
        {
          "data": {
            "text/plain": [
              "'to begin making the masala karela recipe de seed the karela and slice do not remove the skin as the skin has all the nutrients add the karela to the pressure cooker with 3 tablespoon of water salt and turmeric powder and pressure cook for three whistles release the pressure immediately and open the lids keep aside heat oil in a heavy bottomed pan or a kadhai add cumin seeds and let it sizzle once the cumin seeds have sizzled add onions and saute them till it turns golden brown in color add the karela red chilli powder amchur powder coriander powder and besan stir to combine the masalas into the karela drizzle a little extra oil on the top and mix again cover the pan and simmer masala karela stirring occasionally until everything comes together well turn off the heat transfer masala karela into a serving bowl and serve serve masala karela along with panchmel dal and phulka for a weekday meal with your family'"
            ]
          },
          "execution_count": 55,
          "metadata": {},
          "output_type": "execute_result"
        }
      ],
      "source": [
        "text = 'To begin making the Masala Karela Recipe,de-seed the karela and slice.\\nDo not remove the skin as the skin has all the nutrients.\\nAdd the karela to the pressure cooker with 3 tablespoon of water, salt and turmeric powder and pressure cook for three whistles.\\nRelease the pressure immediately and open the lids.\\nKeep aside.Heat oil in a heavy bottomed pan or a kadhai.\\nAdd cumin seeds and let it sizzle.Once the cumin seeds have sizzled, add onions and saute them till it turns golden brown in color.Add the karela, red chilli powder, amchur powder, coriander powder and besan.\\nStir to combine the masalas into the karela.Drizzle a little extra oil on the top and mix again.\\nCover the pan and simmer Masala Karela stirring occasionally until everything comes together well.\\nTurn off the heat.Transfer Masala Karela into a serving bowl and serve.Serve Masala Karela along with Panchmel Dal and Phulka for a weekday meal with your family.\\n'\n",
        "\n",
        "preprocess(text)"
      ]
    },
    {
      "cell_type": "code",
      "execution_count": null,
      "id": "c9310abd",
      "metadata": {
        "id": "c9310abd"
      },
      "outputs": [],
      "source": [
        "df.TranslatedInstructions = df.TranslatedInstructions.map(preprocess)"
      ]
    },
    {
      "cell_type": "code",
      "execution_count": null,
      "id": "f234531f",
      "metadata": {
        "id": "f234531f",
        "outputId": "8791ac9c-cfc8-47da-cd65-e313984c3ed3"
      },
      "outputs": [
        {
          "data": {
            "text/plain": [
              "'to begin making the masala karela recipe de seed the karela and slice do not remove the skin as the skin has all the nutrients add the karela to the pressure cooker with 3 tablespoon of water salt and turmeric powder and pressure cook for three whistles release the pressure immediately and open the lids keep aside heat oil in a heavy bottomed pan or a kadhai add cumin seeds and let it sizzle once the cumin seeds have sizzled add onions and saute them till it turns golden brown in color add the karela red chilli powder amchur powder coriander powder and besan stir to combine the masalas into the karela drizzle a little extra oil on the top and mix again cover the pan and simmer masala karela stirring occasionally until everything comes together well turn off the heat transfer masala karela into a serving bowl and serve serve masala karela along with panchmel dal and phulka for a weekday meal with your family'"
            ]
          },
          "execution_count": 66,
          "metadata": {},
          "output_type": "execute_result"
        }
      ],
      "source": [
        "df.TranslatedInstructions[0]"
      ]
    },
    {
      "cell_type": "code",
      "execution_count": null,
      "id": "b0ee507b",
      "metadata": {
        "id": "b0ee507b"
      },
      "outputs": [],
      "source": [
        "df.to_csv(\"food_receipes.txt\", columns=[\"TranslatedInstructions\"], header=None, index=False)"
      ]
    },
    {
      "cell_type": "code",
      "execution_count": null,
      "id": "fae5ac1c",
      "metadata": {
        "id": "fae5ac1c"
      },
      "outputs": [],
      "source": [
        "import fasttext\n",
        "\n",
        "model = fasttext.train_unsupervised(\"food_receipes.txt\")"
      ]
    },
    {
      "cell_type": "code",
      "execution_count": null,
      "id": "84debf5a",
      "metadata": {
        "scrolled": true,
        "id": "84debf5a",
        "outputId": "74c56da6-178d-4d25-80a6-fa9e0a754fa1"
      },
      "outputs": [
        {
          "data": {
            "text/plain": [
              "[(0.6676578521728516, 'tikka'),\n",
              " (0.6331593990325928, 'bhurji'),\n",
              " (0.6316412687301636, 'tikkas'),\n",
              " (0.6094192266464233, 'shashlik'),\n",
              " (0.6074358820915222, 'tandoori'),\n",
              " (0.5913100838661194, 'nawabi'),\n",
              " (0.5770578384399414, 'makhanwala'),\n",
              " (0.5679370760917664, 'makhane'),\n",
              " (0.5651180744171143, 'satay'),\n",
              " (0.5571504235267639, 'matzo')]"
            ]
          },
          "execution_count": 77,
          "metadata": {},
          "output_type": "execute_result"
        }
      ],
      "source": [
        "model.get_nearest_neighbors(\"paneer\")"
      ]
    },
    {
      "cell_type": "code",
      "execution_count": null,
      "id": "f936a8bf",
      "metadata": {
        "id": "f936a8bf",
        "outputId": "7aa95602-fadc-45c0-b616-57f671e01e65"
      },
      "outputs": [
        {
          "data": {
            "text/plain": [
              "[(0.9504611492156982, 'chutneys'),\n",
              " (0.7339446544647217, 'imli'),\n",
              " (0.7242112755775452, 'dhaniya'),\n",
              " (0.7055650353431702, 'pudina'),\n",
              " (0.6984171271324158, 'khajur'),\n",
              " (0.6709029674530029, 'mavinakayi'),\n",
              " (0.6576716303825378, 'ratalu'),\n",
              " (0.6567045450210571, 'heerekai'),\n",
              " (0.6536096334457397, 'pudi'),\n",
              " (0.6535494327545166, 'gothsu')]"
            ]
          },
          "execution_count": 81,
          "metadata": {},
          "output_type": "execute_result"
        }
      ],
      "source": [
        "model.get_nearest_neighbors(\"chutney\")"
      ]
    },
    {
      "cell_type": "code",
      "execution_count": null,
      "id": "fb75dcf0",
      "metadata": {
        "id": "fb75dcf0",
        "outputId": "27500329-1fd1-4f39-a615-3abd03133314"
      },
      "outputs": [
        {
          "data": {
            "text/plain": [
              "[(0.7327786087989807, 'khoya'),\n",
              " (0.7155830264091492, 'sheera'),\n",
              " (0.6999987363815308, 'rabri'),\n",
              " (0.6987040638923645, 'burfi'),\n",
              " (0.6768929958343506, 'badam'),\n",
              " (0.6665166020393372, 'kesari'),\n",
              " (0.6663287281990051, 'kheer'),\n",
              " (0.664326548576355, 'mawa'),\n",
              " (0.6490095853805542, 'halbai'),\n",
              " (0.6289424896240234, 'mohan')]"
            ]
          },
          "execution_count": 83,
          "metadata": {},
          "output_type": "execute_result"
        }
      ],
      "source": [
        "model.get_nearest_neighbors(\"halwa\")"
      ]
    },
    {
      "cell_type": "code",
      "execution_count": null,
      "id": "79ad1c5f",
      "metadata": {
        "id": "79ad1c5f",
        "outputId": "1c066ca8-5c92-4546-956c-4ba26c01d4e3"
      },
      "outputs": [
        {
          "data": {
            "text/plain": [
              "[(0.8565618991851807, 'dosai'),\n",
              " (0.8131380081176758, 'dosas'),\n",
              " (0.7716724276542664, \"dosa's\"),\n",
              " (0.7011599540710449, 'uttapam'),\n",
              " (0.6958349347114563, 'chembaruthi'),\n",
              " (0.6922599673271179, 'dose'),\n",
              " (0.6917827129364014, 'neer'),\n",
              " (0.6860083937644958, 'uthappam'),\n",
              " (0.6539950370788574, 'idli'),\n",
              " (0.6535670161247253, 'appachetty')]"
            ]
          },
          "execution_count": 86,
          "metadata": {},
          "output_type": "execute_result"
        }
      ],
      "source": [
        "model.get_nearest_neighbors(\"dosa\")"
      ]
    },
    {
      "cell_type": "code",
      "execution_count": null,
      "id": "617f1a48",
      "metadata": {
        "scrolled": true,
        "id": "617f1a48",
        "outputId": "34c23b90-2fd7-44ac-fb88-d47b4e9d8c8a"
      },
      "outputs": [
        {
          "data": {
            "text/plain": [
              "[(0.7523265480995178, 'dal'),\n",
              " (0.7234242558479309, 'sprouted'),\n",
              " (0.6893743872642517, 'mooga'),\n",
              " (0.682951033115387, 'moongphali'),\n",
              " (0.6707783341407776, 'dalma'),\n",
              " (0.6571015119552612, 'moth'),\n",
              " (0.6407501697540283, 'phanna'),\n",
              " (0.6342118978500366, 'sprouts'),\n",
              " (0.631661593914032, 'dals'),\n",
              " (0.629382848739624, 'daliya')]"
            ]
          },
          "execution_count": 87,
          "metadata": {},
          "output_type": "execute_result"
        }
      ],
      "source": [
        "model.get_nearest_neighbors(\"moong\")"
      ]
    },
    {
      "cell_type": "code",
      "execution_count": null,
      "id": "71852e1c",
      "metadata": {
        "id": "71852e1c",
        "outputId": "9e5819a1-6091-4ad9-abee-bd81cc2b88b6"
      },
      "outputs": [
        {
          "data": {
            "text/plain": [
              "(100,)"
            ]
          },
          "execution_count": 93,
          "metadata": {},
          "output_type": "execute_result"
        }
      ],
      "source": [
        "model.get_word_vector(\"dosa\").shape"
      ]
    },
    {
      "cell_type": "code",
      "execution_count": null,
      "id": "924e3d8d",
      "metadata": {
        "id": "924e3d8d",
        "outputId": "0a61e493-db65-40ba-c188-331f193808f7"
      },
      "outputs": [
        {
          "data": {
            "text/plain": [
              "[(0.849528968334198, 'agathi'),\n",
              " (0.8434577584266663, 'fansi'),\n",
              " (0.8286634683609009, 'shaak'),\n",
              " (0.8236896395683289, 'kulith'),\n",
              " (0.8191390633583069, 'veetu'),\n",
              " (0.816569447517395, 'masiyal'),\n",
              " (0.8142441511154175, 'mulangi'),\n",
              " (0.8140149116516113, 'kumani'),\n",
              " (0.8116310238838196, 'mulakushyam'),\n",
              " (0.8095227479934692, 'pasi')]"
            ]
          },
          "execution_count": 124,
          "metadata": {},
          "output_type": "execute_result"
        }
      ],
      "source": [
        "model.get_nearest_neighbors(\"saragva\")"
      ]
    },
    {
      "cell_type": "markdown",
      "id": "5b0b7e80",
      "metadata": {
        "id": "5b0b7e80"
      },
      "source": [
        "https://fasttext.cc/docs/en/unsupervised-tutorial.html for details on parameters in train_unsupervised function. Based on the need one can use following parameters for fine tunning,\n",
        "\n",
        "1. epochs = Default value is 5. Epoch is how many times it will loop over the same dataset for the training\n",
        "2. lr = Learning rate\n",
        "3. thread = Number of threads for the training"
      ]
    }
  ],
  "metadata": {
    "kernelspec": {
      "display_name": "Python 3",
      "language": "python",
      "name": "python3"
    },
    "language_info": {
      "codemirror_mode": {
        "name": "ipython",
        "version": 3
      },
      "file_extension": ".py",
      "mimetype": "text/x-python",
      "name": "python",
      "nbconvert_exporter": "python",
      "pygments_lexer": "ipython3",
      "version": "3.8.10"
    },
    "colab": {
      "provenance": [],
      "include_colab_link": true
    }
  },
  "nbformat": 4,
  "nbformat_minor": 5
}