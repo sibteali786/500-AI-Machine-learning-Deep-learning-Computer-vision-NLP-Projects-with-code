{
  "cells": [
    {
      "cell_type": "markdown",
      "metadata": {
        "id": "EKkEak6eX9cc"
      },
      "source": [
        "<h2 align=\"center\">NLP Tutorial:Text Classification USing Gensim Word Embeddings</h2>"
      ]
    },
    {
      "cell_type": "markdown",
      "metadata": {
        "id": "jXLaHWbcL1Xv"
      },
      "source": [
        "Load Google News Word2vec model from gensim library"
      ]
    },
    {
      "cell_type": "code",
      "source": [
        "!pip install -U numpy==1.26.0"
      ],
      "metadata": {
        "colab": {
          "base_uri": "https://localhost:8080/"
        },
        "id": "38gVaLKmmmHI",
        "outputId": "579ee54f-354b-418d-e650-0b1f3c7d5a54"
      },
      "execution_count": 2,
      "outputs": [
        {
          "output_type": "stream",
          "name": "stdout",
          "text": [
            "Collecting numpy==1.26.0\n",
            "  Downloading numpy-1.26.0-cp311-cp311-manylinux_2_17_x86_64.manylinux2014_x86_64.whl.metadata (58 kB)\n",
            "\u001b[2K     \u001b[90m━━━━━━━━━━━━━━━━━━━━━━━━━━━━━━━━━━━━━━━━\u001b[0m \u001b[32m58.5/58.5 kB\u001b[0m \u001b[31m3.0 MB/s\u001b[0m eta \u001b[36m0:00:00\u001b[0m\n",
            "\u001b[?25hDownloading numpy-1.26.0-cp311-cp311-manylinux_2_17_x86_64.manylinux2014_x86_64.whl (18.2 MB)\n",
            "\u001b[2K   \u001b[90m━━━━━━━━━━━━━━━━━━━━━━━━━━━━━━━━━━━━━━━━\u001b[0m \u001b[32m18.2/18.2 MB\u001b[0m \u001b[31m73.1 MB/s\u001b[0m eta \u001b[36m0:00:00\u001b[0m\n",
            "\u001b[?25hInstalling collected packages: numpy\n",
            "  Attempting uninstall: numpy\n",
            "    Found existing installation: numpy 2.0.2\n",
            "    Uninstalling numpy-2.0.2:\n",
            "      Successfully uninstalled numpy-2.0.2\n",
            "\u001b[31mERROR: pip's dependency resolver does not currently take into account all the packages that are installed. This behaviour is the source of the following dependency conflicts.\n",
            "thinc 8.3.6 requires numpy<3.0.0,>=2.0.0, but you have numpy 1.26.0 which is incompatible.\u001b[0m\u001b[31m\n",
            "\u001b[0mSuccessfully installed numpy-1.26.0\n"
          ]
        }
      ]
    },
    {
      "cell_type": "code",
      "source": [
        "!pip install -U gensim"
      ],
      "metadata": {
        "colab": {
          "base_uri": "https://localhost:8080/"
        },
        "id": "NurktDToniMe",
        "outputId": "c0fb3fe0-6fa4-4fb6-dfe1-09984aa08487"
      },
      "execution_count": 3,
      "outputs": [
        {
          "output_type": "stream",
          "name": "stdout",
          "text": [
            "Collecting gensim\n",
            "  Downloading gensim-4.3.3-cp311-cp311-manylinux_2_17_x86_64.manylinux2014_x86_64.whl.metadata (8.1 kB)\n",
            "Requirement already satisfied: numpy<2.0,>=1.18.5 in /usr/local/lib/python3.11/dist-packages (from gensim) (1.26.0)\n",
            "Collecting scipy<1.14.0,>=1.7.0 (from gensim)\n",
            "  Downloading scipy-1.13.1-cp311-cp311-manylinux_2_17_x86_64.manylinux2014_x86_64.whl.metadata (60 kB)\n",
            "\u001b[2K     \u001b[90m━━━━━━━━━━━━━━━━━━━━━━━━━━━━━━━━━━━━━━━━\u001b[0m \u001b[32m60.6/60.6 kB\u001b[0m \u001b[31m2.2 MB/s\u001b[0m eta \u001b[36m0:00:00\u001b[0m\n",
            "\u001b[?25hRequirement already satisfied: smart-open>=1.8.1 in /usr/local/lib/python3.11/dist-packages (from gensim) (7.1.0)\n",
            "Requirement already satisfied: wrapt in /usr/local/lib/python3.11/dist-packages (from smart-open>=1.8.1->gensim) (1.17.2)\n",
            "Downloading gensim-4.3.3-cp311-cp311-manylinux_2_17_x86_64.manylinux2014_x86_64.whl (26.7 MB)\n",
            "\u001b[2K   \u001b[90m━━━━━━━━━━━━━━━━━━━━━━━━━━━━━━━━━━━━━━━━\u001b[0m \u001b[32m26.7/26.7 MB\u001b[0m \u001b[31m42.0 MB/s\u001b[0m eta \u001b[36m0:00:00\u001b[0m\n",
            "\u001b[?25hDownloading scipy-1.13.1-cp311-cp311-manylinux_2_17_x86_64.manylinux2014_x86_64.whl (38.6 MB)\n",
            "\u001b[2K   \u001b[90m━━━━━━━━━━━━━━━━━━━━━━━━━━━━━━━━━━━━━━━━\u001b[0m \u001b[32m38.6/38.6 MB\u001b[0m \u001b[31m12.0 MB/s\u001b[0m eta \u001b[36m0:00:00\u001b[0m\n",
            "\u001b[?25hInstalling collected packages: scipy, gensim\n",
            "  Attempting uninstall: scipy\n",
            "    Found existing installation: scipy 1.15.3\n",
            "    Uninstalling scipy-1.15.3:\n",
            "      Successfully uninstalled scipy-1.15.3\n",
            "\u001b[31mERROR: pip's dependency resolver does not currently take into account all the packages that are installed. This behaviour is the source of the following dependency conflicts.\n",
            "tsfresh 0.21.0 requires scipy>=1.14.0; python_version >= \"3.10\", but you have scipy 1.13.1 which is incompatible.\u001b[0m\u001b[31m\n",
            "\u001b[0mSuccessfully installed gensim-4.3.3 scipy-1.13.1\n"
          ]
        }
      ]
    },
    {
      "cell_type": "code",
      "execution_count": 1,
      "metadata": {
        "colab": {
          "base_uri": "https://localhost:8080/"
        },
        "id": "8ukyzNAyBaPw",
        "outputId": "cd3b5b6e-d693-420d-d5ce-ec3772aaa86a"
      },
      "outputs": [
        {
          "output_type": "stream",
          "name": "stdout",
          "text": [
            "[==================================================] 100.0% 1662.8/1662.8MB downloaded\n"
          ]
        }
      ],
      "source": [
        "import gensim.downloader as api\n",
        "wv = api.load('word2vec-google-news-300')"
      ]
    },
    {
      "cell_type": "code",
      "execution_count": 2,
      "metadata": {
        "id": "qOR83YfLJRXG",
        "outputId": "b05ece6c-83a4-414d-df0e-c5a398aa0a1c",
        "colab": {
          "base_uri": "https://localhost:8080/"
        }
      },
      "outputs": [
        {
          "output_type": "execute_result",
          "data": {
            "text/plain": [
              "0.729151"
            ]
          },
          "metadata": {},
          "execution_count": 2
        }
      ],
      "source": [
        "wv.similarity(w1=\"great\", w2=\"good\")"
      ]
    },
    {
      "cell_type": "code",
      "execution_count": 3,
      "metadata": {
        "id": "qTr1Fq5uX9cf"
      },
      "outputs": [],
      "source": [
        "wv_great = wv[\"great\"]\n",
        "wv_good = wv[\"good\"]"
      ]
    },
    {
      "cell_type": "code",
      "source": [
        "wv_great.shape"
      ],
      "metadata": {
        "id": "qNXgJO-sc-u4",
        "outputId": "3301b8af-36be-4761-e88b-47d8aaa3a598",
        "colab": {
          "base_uri": "https://localhost:8080/"
        }
      },
      "execution_count": 5,
      "outputs": [
        {
          "output_type": "execute_result",
          "data": {
            "text/plain": [
              "(300,)"
            ]
          },
          "metadata": {},
          "execution_count": 5
        }
      ]
    },
    {
      "cell_type": "code",
      "execution_count": 6,
      "metadata": {
        "id": "kVe0MS8_X9cf",
        "outputId": "2d0acc42-5513-4fa3-f174-e3f5b0631235",
        "colab": {
          "base_uri": "https://localhost:8080/"
        }
      },
      "outputs": [
        {
          "output_type": "execute_result",
          "data": {
            "text/plain": [
              "((300,), (300,))"
            ]
          },
          "metadata": {},
          "execution_count": 6
        }
      ],
      "source": [
        "wv_great.shape, wv_good.shape"
      ]
    },
    {
      "cell_type": "markdown",
      "metadata": {
        "id": "EDNq8C5rMEI2"
      },
      "source": [
        "### **Fake vs Real News Classification Using This Word2Vec Embeddings**"
      ]
    },
    {
      "cell_type": "markdown",
      "metadata": {
        "id": "8n8FcENNMNYU"
      },
      "source": [
        "- Fake news refers to misinformation or disinformation in the country which is spread through word of mouth and more recently through digital communication such as What's app messages, social media posts, etc.\n",
        "\n",
        "- Fake news spreads faster than real news and creates problems and fear among groups and in society.\n",
        "\n",
        "- We are going to address these problems using classical NLP techniques and going to classify whether a given message/ text is **Real or Fake Message**.\n",
        "\n",
        "- We will use **glove embeddings** from spacy which is trained on massive wikipedia dataset to pre-process and text vectorization and apply different classification algorithms.\n"
      ]
    },
    {
      "cell_type": "markdown",
      "metadata": {
        "id": "21PuUZq9MPhu"
      },
      "source": [
        "### Dataset\n",
        "\n",
        "Credits: https://www.kaggle.com/datasets/clmentbisaillon/fake-and-real-news-dataset\n",
        "\n",
        "\n",
        "- This data consists of two columns.\n",
        "        - Text\n",
        "        - label\n",
        "- Text is the statements or messages regarding a particular event/situation.\n",
        "\n",
        "- label feature tells whether the given text is Fake or Real.\n",
        "\n",
        "- As there are only 2 classes, this problem comes under the **Binary Classification.**\n"
      ]
    },
    {
      "cell_type": "code",
      "execution_count": 8,
      "metadata": {
        "colab": {
          "base_uri": "https://localhost:8080/",
          "height": 225
        },
        "id": "H3ij_XmtBaKP",
        "outputId": "23e0b80f-4f85-47ea-fe0b-9475435d5d97"
      },
      "outputs": [
        {
          "output_type": "stream",
          "name": "stdout",
          "text": [
            "(9900, 2)\n"
          ]
        },
        {
          "output_type": "execute_result",
          "data": {
            "text/plain": [
              "                                                Text label\n",
              "0   Top Trump Surrogate BRUTALLY Stabs Him In The...  Fake\n",
              "1  U.S. conservative leader optimistic of common ...  Real\n",
              "2  Trump proposes U.S. tax overhaul, stirs concer...  Real\n",
              "3   Court Forces Ohio To Allow Millions Of Illega...  Fake\n",
              "4  Democrats say Trump agrees to work on immigrat...  Real"
            ],
            "text/html": [
              "\n",
              "  <div id=\"df-506a061c-c6d9-4820-bd21-806ca15d3564\" class=\"colab-df-container\">\n",
              "    <div>\n",
              "<style scoped>\n",
              "    .dataframe tbody tr th:only-of-type {\n",
              "        vertical-align: middle;\n",
              "    }\n",
              "\n",
              "    .dataframe tbody tr th {\n",
              "        vertical-align: top;\n",
              "    }\n",
              "\n",
              "    .dataframe thead th {\n",
              "        text-align: right;\n",
              "    }\n",
              "</style>\n",
              "<table border=\"1\" class=\"dataframe\">\n",
              "  <thead>\n",
              "    <tr style=\"text-align: right;\">\n",
              "      <th></th>\n",
              "      <th>Text</th>\n",
              "      <th>label</th>\n",
              "    </tr>\n",
              "  </thead>\n",
              "  <tbody>\n",
              "    <tr>\n",
              "      <th>0</th>\n",
              "      <td>Top Trump Surrogate BRUTALLY Stabs Him In The...</td>\n",
              "      <td>Fake</td>\n",
              "    </tr>\n",
              "    <tr>\n",
              "      <th>1</th>\n",
              "      <td>U.S. conservative leader optimistic of common ...</td>\n",
              "      <td>Real</td>\n",
              "    </tr>\n",
              "    <tr>\n",
              "      <th>2</th>\n",
              "      <td>Trump proposes U.S. tax overhaul, stirs concer...</td>\n",
              "      <td>Real</td>\n",
              "    </tr>\n",
              "    <tr>\n",
              "      <th>3</th>\n",
              "      <td>Court Forces Ohio To Allow Millions Of Illega...</td>\n",
              "      <td>Fake</td>\n",
              "    </tr>\n",
              "    <tr>\n",
              "      <th>4</th>\n",
              "      <td>Democrats say Trump agrees to work on immigrat...</td>\n",
              "      <td>Real</td>\n",
              "    </tr>\n",
              "  </tbody>\n",
              "</table>\n",
              "</div>\n",
              "    <div class=\"colab-df-buttons\">\n",
              "\n",
              "  <div class=\"colab-df-container\">\n",
              "    <button class=\"colab-df-convert\" onclick=\"convertToInteractive('df-506a061c-c6d9-4820-bd21-806ca15d3564')\"\n",
              "            title=\"Convert this dataframe to an interactive table.\"\n",
              "            style=\"display:none;\">\n",
              "\n",
              "  <svg xmlns=\"http://www.w3.org/2000/svg\" height=\"24px\" viewBox=\"0 -960 960 960\">\n",
              "    <path d=\"M120-120v-720h720v720H120Zm60-500h600v-160H180v160Zm220 220h160v-160H400v160Zm0 220h160v-160H400v160ZM180-400h160v-160H180v160Zm440 0h160v-160H620v160ZM180-180h160v-160H180v160Zm440 0h160v-160H620v160Z\"/>\n",
              "  </svg>\n",
              "    </button>\n",
              "\n",
              "  <style>\n",
              "    .colab-df-container {\n",
              "      display:flex;\n",
              "      gap: 12px;\n",
              "    }\n",
              "\n",
              "    .colab-df-convert {\n",
              "      background-color: #E8F0FE;\n",
              "      border: none;\n",
              "      border-radius: 50%;\n",
              "      cursor: pointer;\n",
              "      display: none;\n",
              "      fill: #1967D2;\n",
              "      height: 32px;\n",
              "      padding: 0 0 0 0;\n",
              "      width: 32px;\n",
              "    }\n",
              "\n",
              "    .colab-df-convert:hover {\n",
              "      background-color: #E2EBFA;\n",
              "      box-shadow: 0px 1px 2px rgba(60, 64, 67, 0.3), 0px 1px 3px 1px rgba(60, 64, 67, 0.15);\n",
              "      fill: #174EA6;\n",
              "    }\n",
              "\n",
              "    .colab-df-buttons div {\n",
              "      margin-bottom: 4px;\n",
              "    }\n",
              "\n",
              "    [theme=dark] .colab-df-convert {\n",
              "      background-color: #3B4455;\n",
              "      fill: #D2E3FC;\n",
              "    }\n",
              "\n",
              "    [theme=dark] .colab-df-convert:hover {\n",
              "      background-color: #434B5C;\n",
              "      box-shadow: 0px 1px 3px 1px rgba(0, 0, 0, 0.15);\n",
              "      filter: drop-shadow(0px 1px 2px rgba(0, 0, 0, 0.3));\n",
              "      fill: #FFFFFF;\n",
              "    }\n",
              "  </style>\n",
              "\n",
              "    <script>\n",
              "      const buttonEl =\n",
              "        document.querySelector('#df-506a061c-c6d9-4820-bd21-806ca15d3564 button.colab-df-convert');\n",
              "      buttonEl.style.display =\n",
              "        google.colab.kernel.accessAllowed ? 'block' : 'none';\n",
              "\n",
              "      async function convertToInteractive(key) {\n",
              "        const element = document.querySelector('#df-506a061c-c6d9-4820-bd21-806ca15d3564');\n",
              "        const dataTable =\n",
              "          await google.colab.kernel.invokeFunction('convertToInteractive',\n",
              "                                                    [key], {});\n",
              "        if (!dataTable) return;\n",
              "\n",
              "        const docLinkHtml = 'Like what you see? Visit the ' +\n",
              "          '<a target=\"_blank\" href=https://colab.research.google.com/notebooks/data_table.ipynb>data table notebook</a>'\n",
              "          + ' to learn more about interactive tables.';\n",
              "        element.innerHTML = '';\n",
              "        dataTable['output_type'] = 'display_data';\n",
              "        await google.colab.output.renderOutput(dataTable, element);\n",
              "        const docLink = document.createElement('div');\n",
              "        docLink.innerHTML = docLinkHtml;\n",
              "        element.appendChild(docLink);\n",
              "      }\n",
              "    </script>\n",
              "  </div>\n",
              "\n",
              "\n",
              "    <div id=\"df-bf625006-d413-4750-a262-d3a4430fda5a\">\n",
              "      <button class=\"colab-df-quickchart\" onclick=\"quickchart('df-bf625006-d413-4750-a262-d3a4430fda5a')\"\n",
              "                title=\"Suggest charts\"\n",
              "                style=\"display:none;\">\n",
              "\n",
              "<svg xmlns=\"http://www.w3.org/2000/svg\" height=\"24px\"viewBox=\"0 0 24 24\"\n",
              "     width=\"24px\">\n",
              "    <g>\n",
              "        <path d=\"M19 3H5c-1.1 0-2 .9-2 2v14c0 1.1.9 2 2 2h14c1.1 0 2-.9 2-2V5c0-1.1-.9-2-2-2zM9 17H7v-7h2v7zm4 0h-2V7h2v10zm4 0h-2v-4h2v4z\"/>\n",
              "    </g>\n",
              "</svg>\n",
              "      </button>\n",
              "\n",
              "<style>\n",
              "  .colab-df-quickchart {\n",
              "      --bg-color: #E8F0FE;\n",
              "      --fill-color: #1967D2;\n",
              "      --hover-bg-color: #E2EBFA;\n",
              "      --hover-fill-color: #174EA6;\n",
              "      --disabled-fill-color: #AAA;\n",
              "      --disabled-bg-color: #DDD;\n",
              "  }\n",
              "\n",
              "  [theme=dark] .colab-df-quickchart {\n",
              "      --bg-color: #3B4455;\n",
              "      --fill-color: #D2E3FC;\n",
              "      --hover-bg-color: #434B5C;\n",
              "      --hover-fill-color: #FFFFFF;\n",
              "      --disabled-bg-color: #3B4455;\n",
              "      --disabled-fill-color: #666;\n",
              "  }\n",
              "\n",
              "  .colab-df-quickchart {\n",
              "    background-color: var(--bg-color);\n",
              "    border: none;\n",
              "    border-radius: 50%;\n",
              "    cursor: pointer;\n",
              "    display: none;\n",
              "    fill: var(--fill-color);\n",
              "    height: 32px;\n",
              "    padding: 0;\n",
              "    width: 32px;\n",
              "  }\n",
              "\n",
              "  .colab-df-quickchart:hover {\n",
              "    background-color: var(--hover-bg-color);\n",
              "    box-shadow: 0 1px 2px rgba(60, 64, 67, 0.3), 0 1px 3px 1px rgba(60, 64, 67, 0.15);\n",
              "    fill: var(--button-hover-fill-color);\n",
              "  }\n",
              "\n",
              "  .colab-df-quickchart-complete:disabled,\n",
              "  .colab-df-quickchart-complete:disabled:hover {\n",
              "    background-color: var(--disabled-bg-color);\n",
              "    fill: var(--disabled-fill-color);\n",
              "    box-shadow: none;\n",
              "  }\n",
              "\n",
              "  .colab-df-spinner {\n",
              "    border: 2px solid var(--fill-color);\n",
              "    border-color: transparent;\n",
              "    border-bottom-color: var(--fill-color);\n",
              "    animation:\n",
              "      spin 1s steps(1) infinite;\n",
              "  }\n",
              "\n",
              "  @keyframes spin {\n",
              "    0% {\n",
              "      border-color: transparent;\n",
              "      border-bottom-color: var(--fill-color);\n",
              "      border-left-color: var(--fill-color);\n",
              "    }\n",
              "    20% {\n",
              "      border-color: transparent;\n",
              "      border-left-color: var(--fill-color);\n",
              "      border-top-color: var(--fill-color);\n",
              "    }\n",
              "    30% {\n",
              "      border-color: transparent;\n",
              "      border-left-color: var(--fill-color);\n",
              "      border-top-color: var(--fill-color);\n",
              "      border-right-color: var(--fill-color);\n",
              "    }\n",
              "    40% {\n",
              "      border-color: transparent;\n",
              "      border-right-color: var(--fill-color);\n",
              "      border-top-color: var(--fill-color);\n",
              "    }\n",
              "    60% {\n",
              "      border-color: transparent;\n",
              "      border-right-color: var(--fill-color);\n",
              "    }\n",
              "    80% {\n",
              "      border-color: transparent;\n",
              "      border-right-color: var(--fill-color);\n",
              "      border-bottom-color: var(--fill-color);\n",
              "    }\n",
              "    90% {\n",
              "      border-color: transparent;\n",
              "      border-bottom-color: var(--fill-color);\n",
              "    }\n",
              "  }\n",
              "</style>\n",
              "\n",
              "      <script>\n",
              "        async function quickchart(key) {\n",
              "          const quickchartButtonEl =\n",
              "            document.querySelector('#' + key + ' button');\n",
              "          quickchartButtonEl.disabled = true;  // To prevent multiple clicks.\n",
              "          quickchartButtonEl.classList.add('colab-df-spinner');\n",
              "          try {\n",
              "            const charts = await google.colab.kernel.invokeFunction(\n",
              "                'suggestCharts', [key], {});\n",
              "          } catch (error) {\n",
              "            console.error('Error during call to suggestCharts:', error);\n",
              "          }\n",
              "          quickchartButtonEl.classList.remove('colab-df-spinner');\n",
              "          quickchartButtonEl.classList.add('colab-df-quickchart-complete');\n",
              "        }\n",
              "        (() => {\n",
              "          let quickchartButtonEl =\n",
              "            document.querySelector('#df-bf625006-d413-4750-a262-d3a4430fda5a button');\n",
              "          quickchartButtonEl.style.display =\n",
              "            google.colab.kernel.accessAllowed ? 'block' : 'none';\n",
              "        })();\n",
              "      </script>\n",
              "    </div>\n",
              "\n",
              "    </div>\n",
              "  </div>\n"
            ],
            "application/vnd.google.colaboratory.intrinsic+json": {
              "type": "dataframe",
              "variable_name": "df",
              "summary": "{\n  \"name\": \"df\",\n  \"rows\": 9900,\n  \"fields\": [\n    {\n      \"column\": \"Text\",\n      \"properties\": {\n        \"dtype\": \"string\",\n        \"num_unique_values\": 9865,\n        \"samples\": [\n          \" ICYMI: SNL Skewers \\u201cMorning Joe\\u201d And It Is Hilarious This week s cold open for Saturday Night Live featured a parody of the morning show, Morning Joe. The sketch featured Alex Moffat as host Joe Scarborough and Kate McKinnon as Mika Mika Brzezinski. The sketch also has Alec Baldwin as President Donald Trump, who calls into the show as  John Miller,  a spokesperson for the White House. Back in the day, Trump was known for calling reporters all over the New York area pretending to be his own publicist. He would call, not to tout his business successes but to brag about his sex life.The sketch also made fun of the relationship between the hosts. The pair got engaged recently when they were celebrating Mika s 50th birthday. The sketch shows the response from the other panelists on the show, Mark Halperin, Willie Geist and Mike Barnacle, who all have no idea how to respond to Joe and Mika s behavior on the set.Featured image via Frederick M. Brown/Getty Images.\",\n          \" BOMBSHELL: Information Suggests Trump Associates DID Collude With Russia, According To Officials Wednesday was not a good day to be Donald Trump. In the aftermath of the disastrous Comey hearing where it was confirmed that The Donald s team was indeed being investigated   and of Rep. Nunes  decision to skip informing his fellow congressional Russia investigators of perfectly legal  incidental collection  of information about Trump associates and possibly the President* himself and run to The Donald with it instead   Trump has been flailing, attempting to distract from the whole Russia thing as much as possible.That s going to be very hard now, as U.S. officials have now confirmed that the facts suggest that members of his team were indeed working with the enemy. CNN reports:The FBI has information that indicates associates of President Donald Trump communicated with suspected Russian operatives to possibly coordinate the release of information damaging to Hillary Clinton s campaign, US officials told CNN.\",\n          \" Vladimir Putin Just Defended Trump In The WORST Way Possible (VIDEO) According to Russian dictator Vladimir Putin, it s silly to worry about little things like whether or not a couple of Russian ladies peed on Donald Trump s bed because it s much, much worse to publish memos that reveal these allegations.Putin says that there is a conspiracy to  delegitimize  the man and his team of hackers, fake news writers, and trolls he worked hard to install in the Oval Office by hacking Trump s political opponents and running an aggressive propaganda campaign. I don t know Mr. Trump, I have never met him, I don t know what he will do in the international arena, so I have no reason either to attack him, criticize him or defend him, Putin said at a press conference. Donald Trump has been with the most beautiful women in the world, so why would he need prostitutes in Moscow? To answer that question, we need only look to a 2001 edition of the Howard Stern Show in which Trump was reminded that he bragged that he likes to go to Russia to have sex with women because they  have no morals. Putin says that Russian security services  do not chase every US billionaire,  and that the release of the documents was worse than prostitutes. In a way, he s right, as the documents presented to both Trump and President Obama also allege that members of the President-elect s campaign staff directly worked with the Russian government during the campaign.On numerous occasions, Trump has repeated Russian propaganda while attacking U.S. intelligence agencies that have been exposing him for what he is and, of course, has directly quoted Putin (a man whom Trump says is  very smart ) while hurling barbs at Hillary Clinton.Trump and Putin have been screaming about the  fake news  release of actual documents that actual intelligence agencies are in possession of, but the BBC reported recently that the whole pissing Russian ladies thing is just the tip of the iceberg. Correspondent Paul Wood revealed last week that at least four sources have confirmed the information, with one U.S. intelligence source informing him that there is audio and video of The Donald s escapades, and an Israeli news source reports that the country s spies have been warned against sharing information with the United States for fear that Trump will relay it to Putin.Putin and Trump s bromance is disconcerting at best   especially when more than a baker s dozen intelligence agencies have confirmed that the man who stood up to join Trump in his attacks on our intelligence agencies has been confirmed to have interfered in our election.Watch it below:Featured image via Getty Images\"\n        ],\n        \"semantic_type\": \"\",\n        \"description\": \"\"\n      }\n    },\n    {\n      \"column\": \"label\",\n      \"properties\": {\n        \"dtype\": \"category\",\n        \"num_unique_values\": 2,\n        \"samples\": [\n          \"Real\",\n          \"Fake\"\n        ],\n        \"semantic_type\": \"\",\n        \"description\": \"\"\n      }\n    }\n  ]\n}"
            }
          },
          "metadata": {},
          "execution_count": 8
        }
      ],
      "source": [
        "import pandas as pd\n",
        "import requests\n",
        "import io\n",
        "\n",
        "url = \"https://raw.githubusercontent.com/codebasics/nlp-tutorials/refs/heads/main/16_word_vectors_gensim_text_classification/fake_and_real_news.csv\"\n",
        "string_text = requests.get(url).text\n",
        "#read the dataset with name \"Fake_Real_Data.csv\" and store it in a variable df\n",
        "df = pd.read_csv(io.StringIO(string_text))\n",
        "\n",
        "#print the shape of dataframe\n",
        "print(df.shape)\n",
        "\n",
        "#print top 5 rows\n",
        "df.head(5)"
      ]
    },
    {
      "cell_type": "code",
      "execution_count": 9,
      "metadata": {
        "colab": {
          "base_uri": "https://localhost:8080/",
          "height": 178
        },
        "id": "upvt0Y63DLdt",
        "outputId": "6a4ebded-1074-46f6-8886-fca315ca064c"
      },
      "outputs": [
        {
          "output_type": "execute_result",
          "data": {
            "text/plain": [
              "label\n",
              "Fake    5000\n",
              "Real    4900\n",
              "Name: count, dtype: int64"
            ],
            "text/html": [
              "<div>\n",
              "<style scoped>\n",
              "    .dataframe tbody tr th:only-of-type {\n",
              "        vertical-align: middle;\n",
              "    }\n",
              "\n",
              "    .dataframe tbody tr th {\n",
              "        vertical-align: top;\n",
              "    }\n",
              "\n",
              "    .dataframe thead th {\n",
              "        text-align: right;\n",
              "    }\n",
              "</style>\n",
              "<table border=\"1\" class=\"dataframe\">\n",
              "  <thead>\n",
              "    <tr style=\"text-align: right;\">\n",
              "      <th></th>\n",
              "      <th>count</th>\n",
              "    </tr>\n",
              "    <tr>\n",
              "      <th>label</th>\n",
              "      <th></th>\n",
              "    </tr>\n",
              "  </thead>\n",
              "  <tbody>\n",
              "    <tr>\n",
              "      <th>Fake</th>\n",
              "      <td>5000</td>\n",
              "    </tr>\n",
              "    <tr>\n",
              "      <th>Real</th>\n",
              "      <td>4900</td>\n",
              "    </tr>\n",
              "  </tbody>\n",
              "</table>\n",
              "</div><br><label><b>dtype:</b> int64</label>"
            ]
          },
          "metadata": {},
          "execution_count": 9
        }
      ],
      "source": [
        "#check the distribution of labels\n",
        "df['label'].value_counts()"
      ]
    },
    {
      "cell_type": "code",
      "execution_count": 10,
      "metadata": {
        "colab": {
          "base_uri": "https://localhost:8080/",
          "height": 206
        },
        "id": "3FuwvuFCBaNY",
        "outputId": "794eba57-b546-42fb-d1d2-988be8406bd9"
      },
      "outputs": [
        {
          "output_type": "execute_result",
          "data": {
            "text/plain": [
              "                                                Text label  label_num\n",
              "0   Top Trump Surrogate BRUTALLY Stabs Him In The...  Fake          0\n",
              "1  U.S. conservative leader optimistic of common ...  Real          1\n",
              "2  Trump proposes U.S. tax overhaul, stirs concer...  Real          1\n",
              "3   Court Forces Ohio To Allow Millions Of Illega...  Fake          0\n",
              "4  Democrats say Trump agrees to work on immigrat...  Real          1"
            ],
            "text/html": [
              "\n",
              "  <div id=\"df-56147887-a333-414a-92fa-7d8e39e39e4a\" class=\"colab-df-container\">\n",
              "    <div>\n",
              "<style scoped>\n",
              "    .dataframe tbody tr th:only-of-type {\n",
              "        vertical-align: middle;\n",
              "    }\n",
              "\n",
              "    .dataframe tbody tr th {\n",
              "        vertical-align: top;\n",
              "    }\n",
              "\n",
              "    .dataframe thead th {\n",
              "        text-align: right;\n",
              "    }\n",
              "</style>\n",
              "<table border=\"1\" class=\"dataframe\">\n",
              "  <thead>\n",
              "    <tr style=\"text-align: right;\">\n",
              "      <th></th>\n",
              "      <th>Text</th>\n",
              "      <th>label</th>\n",
              "      <th>label_num</th>\n",
              "    </tr>\n",
              "  </thead>\n",
              "  <tbody>\n",
              "    <tr>\n",
              "      <th>0</th>\n",
              "      <td>Top Trump Surrogate BRUTALLY Stabs Him In The...</td>\n",
              "      <td>Fake</td>\n",
              "      <td>0</td>\n",
              "    </tr>\n",
              "    <tr>\n",
              "      <th>1</th>\n",
              "      <td>U.S. conservative leader optimistic of common ...</td>\n",
              "      <td>Real</td>\n",
              "      <td>1</td>\n",
              "    </tr>\n",
              "    <tr>\n",
              "      <th>2</th>\n",
              "      <td>Trump proposes U.S. tax overhaul, stirs concer...</td>\n",
              "      <td>Real</td>\n",
              "      <td>1</td>\n",
              "    </tr>\n",
              "    <tr>\n",
              "      <th>3</th>\n",
              "      <td>Court Forces Ohio To Allow Millions Of Illega...</td>\n",
              "      <td>Fake</td>\n",
              "      <td>0</td>\n",
              "    </tr>\n",
              "    <tr>\n",
              "      <th>4</th>\n",
              "      <td>Democrats say Trump agrees to work on immigrat...</td>\n",
              "      <td>Real</td>\n",
              "      <td>1</td>\n",
              "    </tr>\n",
              "  </tbody>\n",
              "</table>\n",
              "</div>\n",
              "    <div class=\"colab-df-buttons\">\n",
              "\n",
              "  <div class=\"colab-df-container\">\n",
              "    <button class=\"colab-df-convert\" onclick=\"convertToInteractive('df-56147887-a333-414a-92fa-7d8e39e39e4a')\"\n",
              "            title=\"Convert this dataframe to an interactive table.\"\n",
              "            style=\"display:none;\">\n",
              "\n",
              "  <svg xmlns=\"http://www.w3.org/2000/svg\" height=\"24px\" viewBox=\"0 -960 960 960\">\n",
              "    <path d=\"M120-120v-720h720v720H120Zm60-500h600v-160H180v160Zm220 220h160v-160H400v160Zm0 220h160v-160H400v160ZM180-400h160v-160H180v160Zm440 0h160v-160H620v160ZM180-180h160v-160H180v160Zm440 0h160v-160H620v160Z\"/>\n",
              "  </svg>\n",
              "    </button>\n",
              "\n",
              "  <style>\n",
              "    .colab-df-container {\n",
              "      display:flex;\n",
              "      gap: 12px;\n",
              "    }\n",
              "\n",
              "    .colab-df-convert {\n",
              "      background-color: #E8F0FE;\n",
              "      border: none;\n",
              "      border-radius: 50%;\n",
              "      cursor: pointer;\n",
              "      display: none;\n",
              "      fill: #1967D2;\n",
              "      height: 32px;\n",
              "      padding: 0 0 0 0;\n",
              "      width: 32px;\n",
              "    }\n",
              "\n",
              "    .colab-df-convert:hover {\n",
              "      background-color: #E2EBFA;\n",
              "      box-shadow: 0px 1px 2px rgba(60, 64, 67, 0.3), 0px 1px 3px 1px rgba(60, 64, 67, 0.15);\n",
              "      fill: #174EA6;\n",
              "    }\n",
              "\n",
              "    .colab-df-buttons div {\n",
              "      margin-bottom: 4px;\n",
              "    }\n",
              "\n",
              "    [theme=dark] .colab-df-convert {\n",
              "      background-color: #3B4455;\n",
              "      fill: #D2E3FC;\n",
              "    }\n",
              "\n",
              "    [theme=dark] .colab-df-convert:hover {\n",
              "      background-color: #434B5C;\n",
              "      box-shadow: 0px 1px 3px 1px rgba(0, 0, 0, 0.15);\n",
              "      filter: drop-shadow(0px 1px 2px rgba(0, 0, 0, 0.3));\n",
              "      fill: #FFFFFF;\n",
              "    }\n",
              "  </style>\n",
              "\n",
              "    <script>\n",
              "      const buttonEl =\n",
              "        document.querySelector('#df-56147887-a333-414a-92fa-7d8e39e39e4a button.colab-df-convert');\n",
              "      buttonEl.style.display =\n",
              "        google.colab.kernel.accessAllowed ? 'block' : 'none';\n",
              "\n",
              "      async function convertToInteractive(key) {\n",
              "        const element = document.querySelector('#df-56147887-a333-414a-92fa-7d8e39e39e4a');\n",
              "        const dataTable =\n",
              "          await google.colab.kernel.invokeFunction('convertToInteractive',\n",
              "                                                    [key], {});\n",
              "        if (!dataTable) return;\n",
              "\n",
              "        const docLinkHtml = 'Like what you see? Visit the ' +\n",
              "          '<a target=\"_blank\" href=https://colab.research.google.com/notebooks/data_table.ipynb>data table notebook</a>'\n",
              "          + ' to learn more about interactive tables.';\n",
              "        element.innerHTML = '';\n",
              "        dataTable['output_type'] = 'display_data';\n",
              "        await google.colab.output.renderOutput(dataTable, element);\n",
              "        const docLink = document.createElement('div');\n",
              "        docLink.innerHTML = docLinkHtml;\n",
              "        element.appendChild(docLink);\n",
              "      }\n",
              "    </script>\n",
              "  </div>\n",
              "\n",
              "\n",
              "    <div id=\"df-63c55f57-d6d7-48c1-b9bd-68fe950ad699\">\n",
              "      <button class=\"colab-df-quickchart\" onclick=\"quickchart('df-63c55f57-d6d7-48c1-b9bd-68fe950ad699')\"\n",
              "                title=\"Suggest charts\"\n",
              "                style=\"display:none;\">\n",
              "\n",
              "<svg xmlns=\"http://www.w3.org/2000/svg\" height=\"24px\"viewBox=\"0 0 24 24\"\n",
              "     width=\"24px\">\n",
              "    <g>\n",
              "        <path d=\"M19 3H5c-1.1 0-2 .9-2 2v14c0 1.1.9 2 2 2h14c1.1 0 2-.9 2-2V5c0-1.1-.9-2-2-2zM9 17H7v-7h2v7zm4 0h-2V7h2v10zm4 0h-2v-4h2v4z\"/>\n",
              "    </g>\n",
              "</svg>\n",
              "      </button>\n",
              "\n",
              "<style>\n",
              "  .colab-df-quickchart {\n",
              "      --bg-color: #E8F0FE;\n",
              "      --fill-color: #1967D2;\n",
              "      --hover-bg-color: #E2EBFA;\n",
              "      --hover-fill-color: #174EA6;\n",
              "      --disabled-fill-color: #AAA;\n",
              "      --disabled-bg-color: #DDD;\n",
              "  }\n",
              "\n",
              "  [theme=dark] .colab-df-quickchart {\n",
              "      --bg-color: #3B4455;\n",
              "      --fill-color: #D2E3FC;\n",
              "      --hover-bg-color: #434B5C;\n",
              "      --hover-fill-color: #FFFFFF;\n",
              "      --disabled-bg-color: #3B4455;\n",
              "      --disabled-fill-color: #666;\n",
              "  }\n",
              "\n",
              "  .colab-df-quickchart {\n",
              "    background-color: var(--bg-color);\n",
              "    border: none;\n",
              "    border-radius: 50%;\n",
              "    cursor: pointer;\n",
              "    display: none;\n",
              "    fill: var(--fill-color);\n",
              "    height: 32px;\n",
              "    padding: 0;\n",
              "    width: 32px;\n",
              "  }\n",
              "\n",
              "  .colab-df-quickchart:hover {\n",
              "    background-color: var(--hover-bg-color);\n",
              "    box-shadow: 0 1px 2px rgba(60, 64, 67, 0.3), 0 1px 3px 1px rgba(60, 64, 67, 0.15);\n",
              "    fill: var(--button-hover-fill-color);\n",
              "  }\n",
              "\n",
              "  .colab-df-quickchart-complete:disabled,\n",
              "  .colab-df-quickchart-complete:disabled:hover {\n",
              "    background-color: var(--disabled-bg-color);\n",
              "    fill: var(--disabled-fill-color);\n",
              "    box-shadow: none;\n",
              "  }\n",
              "\n",
              "  .colab-df-spinner {\n",
              "    border: 2px solid var(--fill-color);\n",
              "    border-color: transparent;\n",
              "    border-bottom-color: var(--fill-color);\n",
              "    animation:\n",
              "      spin 1s steps(1) infinite;\n",
              "  }\n",
              "\n",
              "  @keyframes spin {\n",
              "    0% {\n",
              "      border-color: transparent;\n",
              "      border-bottom-color: var(--fill-color);\n",
              "      border-left-color: var(--fill-color);\n",
              "    }\n",
              "    20% {\n",
              "      border-color: transparent;\n",
              "      border-left-color: var(--fill-color);\n",
              "      border-top-color: var(--fill-color);\n",
              "    }\n",
              "    30% {\n",
              "      border-color: transparent;\n",
              "      border-left-color: var(--fill-color);\n",
              "      border-top-color: var(--fill-color);\n",
              "      border-right-color: var(--fill-color);\n",
              "    }\n",
              "    40% {\n",
              "      border-color: transparent;\n",
              "      border-right-color: var(--fill-color);\n",
              "      border-top-color: var(--fill-color);\n",
              "    }\n",
              "    60% {\n",
              "      border-color: transparent;\n",
              "      border-right-color: var(--fill-color);\n",
              "    }\n",
              "    80% {\n",
              "      border-color: transparent;\n",
              "      border-right-color: var(--fill-color);\n",
              "      border-bottom-color: var(--fill-color);\n",
              "    }\n",
              "    90% {\n",
              "      border-color: transparent;\n",
              "      border-bottom-color: var(--fill-color);\n",
              "    }\n",
              "  }\n",
              "</style>\n",
              "\n",
              "      <script>\n",
              "        async function quickchart(key) {\n",
              "          const quickchartButtonEl =\n",
              "            document.querySelector('#' + key + ' button');\n",
              "          quickchartButtonEl.disabled = true;  // To prevent multiple clicks.\n",
              "          quickchartButtonEl.classList.add('colab-df-spinner');\n",
              "          try {\n",
              "            const charts = await google.colab.kernel.invokeFunction(\n",
              "                'suggestCharts', [key], {});\n",
              "          } catch (error) {\n",
              "            console.error('Error during call to suggestCharts:', error);\n",
              "          }\n",
              "          quickchartButtonEl.classList.remove('colab-df-spinner');\n",
              "          quickchartButtonEl.classList.add('colab-df-quickchart-complete');\n",
              "        }\n",
              "        (() => {\n",
              "          let quickchartButtonEl =\n",
              "            document.querySelector('#df-63c55f57-d6d7-48c1-b9bd-68fe950ad699 button');\n",
              "          quickchartButtonEl.style.display =\n",
              "            google.colab.kernel.accessAllowed ? 'block' : 'none';\n",
              "        })();\n",
              "      </script>\n",
              "    </div>\n",
              "\n",
              "    </div>\n",
              "  </div>\n"
            ],
            "application/vnd.google.colaboratory.intrinsic+json": {
              "type": "dataframe",
              "variable_name": "df",
              "summary": "{\n  \"name\": \"df\",\n  \"rows\": 9900,\n  \"fields\": [\n    {\n      \"column\": \"Text\",\n      \"properties\": {\n        \"dtype\": \"string\",\n        \"num_unique_values\": 9865,\n        \"samples\": [\n          \" ICYMI: SNL Skewers \\u201cMorning Joe\\u201d And It Is Hilarious This week s cold open for Saturday Night Live featured a parody of the morning show, Morning Joe. The sketch featured Alex Moffat as host Joe Scarborough and Kate McKinnon as Mika Mika Brzezinski. The sketch also has Alec Baldwin as President Donald Trump, who calls into the show as  John Miller,  a spokesperson for the White House. Back in the day, Trump was known for calling reporters all over the New York area pretending to be his own publicist. He would call, not to tout his business successes but to brag about his sex life.The sketch also made fun of the relationship between the hosts. The pair got engaged recently when they were celebrating Mika s 50th birthday. The sketch shows the response from the other panelists on the show, Mark Halperin, Willie Geist and Mike Barnacle, who all have no idea how to respond to Joe and Mika s behavior on the set.Featured image via Frederick M. Brown/Getty Images.\",\n          \" BOMBSHELL: Information Suggests Trump Associates DID Collude With Russia, According To Officials Wednesday was not a good day to be Donald Trump. In the aftermath of the disastrous Comey hearing where it was confirmed that The Donald s team was indeed being investigated   and of Rep. Nunes  decision to skip informing his fellow congressional Russia investigators of perfectly legal  incidental collection  of information about Trump associates and possibly the President* himself and run to The Donald with it instead   Trump has been flailing, attempting to distract from the whole Russia thing as much as possible.That s going to be very hard now, as U.S. officials have now confirmed that the facts suggest that members of his team were indeed working with the enemy. CNN reports:The FBI has information that indicates associates of President Donald Trump communicated with suspected Russian operatives to possibly coordinate the release of information damaging to Hillary Clinton s campaign, US officials told CNN.\",\n          \" Vladimir Putin Just Defended Trump In The WORST Way Possible (VIDEO) According to Russian dictator Vladimir Putin, it s silly to worry about little things like whether or not a couple of Russian ladies peed on Donald Trump s bed because it s much, much worse to publish memos that reveal these allegations.Putin says that there is a conspiracy to  delegitimize  the man and his team of hackers, fake news writers, and trolls he worked hard to install in the Oval Office by hacking Trump s political opponents and running an aggressive propaganda campaign. I don t know Mr. Trump, I have never met him, I don t know what he will do in the international arena, so I have no reason either to attack him, criticize him or defend him, Putin said at a press conference. Donald Trump has been with the most beautiful women in the world, so why would he need prostitutes in Moscow? To answer that question, we need only look to a 2001 edition of the Howard Stern Show in which Trump was reminded that he bragged that he likes to go to Russia to have sex with women because they  have no morals. Putin says that Russian security services  do not chase every US billionaire,  and that the release of the documents was worse than prostitutes. In a way, he s right, as the documents presented to both Trump and President Obama also allege that members of the President-elect s campaign staff directly worked with the Russian government during the campaign.On numerous occasions, Trump has repeated Russian propaganda while attacking U.S. intelligence agencies that have been exposing him for what he is and, of course, has directly quoted Putin (a man whom Trump says is  very smart ) while hurling barbs at Hillary Clinton.Trump and Putin have been screaming about the  fake news  release of actual documents that actual intelligence agencies are in possession of, but the BBC reported recently that the whole pissing Russian ladies thing is just the tip of the iceberg. Correspondent Paul Wood revealed last week that at least four sources have confirmed the information, with one U.S. intelligence source informing him that there is audio and video of The Donald s escapades, and an Israeli news source reports that the country s spies have been warned against sharing information with the United States for fear that Trump will relay it to Putin.Putin and Trump s bromance is disconcerting at best   especially when more than a baker s dozen intelligence agencies have confirmed that the man who stood up to join Trump in his attacks on our intelligence agencies has been confirmed to have interfered in our election.Watch it below:Featured image via Getty Images\"\n        ],\n        \"semantic_type\": \"\",\n        \"description\": \"\"\n      }\n    },\n    {\n      \"column\": \"label\",\n      \"properties\": {\n        \"dtype\": \"category\",\n        \"num_unique_values\": 2,\n        \"samples\": [\n          \"Real\",\n          \"Fake\"\n        ],\n        \"semantic_type\": \"\",\n        \"description\": \"\"\n      }\n    },\n    {\n      \"column\": \"label_num\",\n      \"properties\": {\n        \"dtype\": \"number\",\n        \"std\": 0,\n        \"min\": 0,\n        \"max\": 1,\n        \"num_unique_values\": 2,\n        \"samples\": [\n          1,\n          0\n        ],\n        \"semantic_type\": \"\",\n        \"description\": \"\"\n      }\n    }\n  ]\n}"
            }
          },
          "metadata": {},
          "execution_count": 10
        }
      ],
      "source": [
        "#Add the new column which gives a unique number to each of these labels\n",
        "\n",
        "df['label_num'] = df['label'].map({'Fake' : 0, 'Real': 1})\n",
        "\n",
        "#check the results with top 5 rows\n",
        "df.head(5)"
      ]
    },
    {
      "cell_type": "markdown",
      "metadata": {
        "id": "poNnWjrMX9ch"
      },
      "source": [
        "#### Now we will convert the text into a vector using gensim's word2vec embeddings.\n",
        "#### We will do this in three steps,\n",
        "\n",
        "1. Preprocess the text to remove stop words, punctuations and get lemma for each word\n",
        "2. Get word vectors for each of the words in a pre-processed sentece\n",
        "3. Take a mean of all word vectors to derive the numeric representation of the entire news article"
      ]
    },
    {
      "cell_type": "markdown",
      "metadata": {
        "id": "wYHt16cCX9ch"
      },
      "source": [
        "First let's explore get_mean_vector api of gensim to see how it works"
      ]
    },
    {
      "cell_type": "code",
      "source": [
        "import numpy as np"
      ],
      "metadata": {
        "id": "fF9qXjICfMLT"
      },
      "execution_count": 12,
      "outputs": []
    },
    {
      "cell_type": "code",
      "execution_count": 13,
      "metadata": {
        "id": "ia6UCmmIX9ch"
      },
      "outputs": [],
      "source": [
        "r1 = np.mean([wv_good, wv_great],axis=0)"
      ]
    },
    {
      "cell_type": "code",
      "execution_count": 14,
      "metadata": {
        "id": "Cxazik9KX9ch",
        "outputId": "55ab5212-c139-47d4-a28c-0d2e7f56b4a8",
        "colab": {
          "base_uri": "https://localhost:8080/"
        }
      },
      "outputs": [
        {
          "output_type": "execute_result",
          "data": {
            "text/plain": [
              "array([ 0.04052734,  0.0625    , -0.01745605,  0.07861328,  0.03271484],\n",
              "      dtype=float32)"
            ]
          },
          "metadata": {},
          "execution_count": 14
        }
      ],
      "source": [
        "wv_good[:5]"
      ]
    },
    {
      "cell_type": "code",
      "execution_count": 15,
      "metadata": {
        "id": "IPo-yD1mX9ch",
        "outputId": "1e6fbb82-ef81-496f-f5b0-3433a8e436b8",
        "colab": {
          "base_uri": "https://localhost:8080/"
        }
      },
      "outputs": [
        {
          "output_type": "execute_result",
          "data": {
            "text/plain": [
              "array([ 0.07177734,  0.20800781, -0.02844238,  0.17871094,  0.1328125 ],\n",
              "      dtype=float32)"
            ]
          },
          "metadata": {},
          "execution_count": 15
        }
      ],
      "source": [
        "wv_great[:5]"
      ]
    },
    {
      "cell_type": "code",
      "execution_count": 16,
      "metadata": {
        "id": "kJo0LHizX9ch",
        "outputId": "e0a83373-6a43-4b37-8378-932d885dda7c",
        "colab": {
          "base_uri": "https://localhost:8080/"
        }
      },
      "outputs": [
        {
          "output_type": "execute_result",
          "data": {
            "text/plain": [
              "array([ 0.05615234,  0.1352539 , -0.02294922,  0.12866211,  0.08276367],\n",
              "      dtype=float32)"
            ]
          },
          "metadata": {},
          "execution_count": 16
        }
      ],
      "source": [
        "r1[:5]"
      ]
    },
    {
      "cell_type": "code",
      "execution_count": 17,
      "metadata": {
        "id": "FpBfxQ0PX9ci"
      },
      "outputs": [],
      "source": [
        "r2 = wv.get_mean_vector([\"good\", \"great\"],pre_normalize=False)"
      ]
    },
    {
      "cell_type": "code",
      "execution_count": 18,
      "metadata": {
        "scrolled": true,
        "id": "kQmmtMFXX9ci",
        "outputId": "d8a7968e-84c5-4e79-ef15-c9a2f55495c1",
        "colab": {
          "base_uri": "https://localhost:8080/"
        }
      },
      "outputs": [
        {
          "output_type": "execute_result",
          "data": {
            "text/plain": [
              "array([ 0.05615234,  0.1352539 , -0.02294922,  0.12866211,  0.08276367],\n",
              "      dtype=float32)"
            ]
          },
          "metadata": {},
          "execution_count": 18
        }
      ],
      "source": [
        "r2[:5]"
      ]
    },
    {
      "cell_type": "markdown",
      "metadata": {
        "id": "ged-kUXTIdq5"
      },
      "source": [
        "Now let's write the function that can do preprocessing and vectorization both"
      ]
    },
    {
      "cell_type": "code",
      "source": [
        "!python -m spacy download en_core_web_lg"
      ],
      "metadata": {
        "id": "V7dFJOqjgqSF",
        "outputId": "321f00c8-dbc7-4521-e54d-dbd7448d2d02",
        "colab": {
          "base_uri": "https://localhost:8080/"
        }
      },
      "execution_count": 20,
      "outputs": [
        {
          "output_type": "stream",
          "name": "stdout",
          "text": [
            "Collecting en-core-web-lg==3.8.0\n",
            "  Downloading https://github.com/explosion/spacy-models/releases/download/en_core_web_lg-3.8.0/en_core_web_lg-3.8.0-py3-none-any.whl (400.7 MB)\n",
            "\u001b[2K     \u001b[90m━━━━━━━━━━━━━━━━━━━━━━━━━━━━━━━━━━━━━━━\u001b[0m \u001b[32m400.7/400.7 MB\u001b[0m \u001b[31m1.3 MB/s\u001b[0m eta \u001b[36m0:00:00\u001b[0m\n",
            "\u001b[?25hInstalling collected packages: en-core-web-lg\n",
            "Successfully installed en-core-web-lg-3.8.0\n",
            "\u001b[38;5;2m✔ Download and installation successful\u001b[0m\n",
            "You can now load the package via spacy.load('en_core_web_lg')\n",
            "\u001b[38;5;3m⚠ Restart to reload dependencies\u001b[0m\n",
            "If you are in a Jupyter or Colab notebook, you may need to restart Python in\n",
            "order to load all the package's dependencies. You can do this by selecting the\n",
            "'Restart kernel' or 'Restart runtime' option.\n"
          ]
        }
      ]
    },
    {
      "cell_type": "code",
      "execution_count": 21,
      "metadata": {
        "id": "5-CdpAtmIbjQ"
      },
      "outputs": [],
      "source": [
        "import spacy\n",
        "nlp = spacy.load(\"en_core_web_lg\") # if this fails then run \"python -m spacy download en_core_web_lg\" to download that model\n",
        "\n",
        "def preprocess_and_vectorize(text):\n",
        "    # remove stop words and lemmatize the text\n",
        "    doc = nlp(text)\n",
        "    filtered_tokens = []\n",
        "    for token in doc:\n",
        "        if token.is_stop or token.is_punct:\n",
        "            continue\n",
        "        filtered_tokens.append(token.lemma_)\n",
        "\n",
        "    return wv.get_mean_vector(filtered_tokens)"
      ]
    },
    {
      "cell_type": "code",
      "execution_count": 22,
      "metadata": {
        "id": "S1OiSHLvX9ci",
        "outputId": "fe58324e-9d6f-495c-cba0-7e4b1dae75c9",
        "colab": {
          "base_uri": "https://localhost:8080/"
        }
      },
      "outputs": [
        {
          "output_type": "execute_result",
          "data": {
            "text/plain": [
              "(300,)"
            ]
          },
          "metadata": {},
          "execution_count": 22
        }
      ],
      "source": [
        "v = preprocess_and_vectorize(\"Don't worry if you don't understand\")\n",
        "v.shape"
      ]
    },
    {
      "cell_type": "code",
      "execution_count": 23,
      "metadata": {
        "id": "iOke8KXkIbmE"
      },
      "outputs": [],
      "source": [
        "#this query takes few minutes, so go get some walk :)\n",
        "\n",
        "df['vector'] = df['Text'].apply(lambda text: preprocess_and_vectorize(text))"
      ]
    },
    {
      "cell_type": "code",
      "execution_count": 24,
      "metadata": {
        "colab": {
          "base_uri": "https://localhost:8080/",
          "height": 293
        },
        "id": "jI5EobDLQE_o",
        "outputId": "338e5f9b-1c3e-4110-f147-051c28a94a76"
      },
      "outputs": [
        {
          "output_type": "execute_result",
          "data": {
            "text/plain": [
              "                                                Text label  label_num  \\\n",
              "0   Top Trump Surrogate BRUTALLY Stabs Him In The...  Fake          0   \n",
              "1  U.S. conservative leader optimistic of common ...  Real          1   \n",
              "2  Trump proposes U.S. tax overhaul, stirs concer...  Real          1   \n",
              "3   Court Forces Ohio To Allow Millions Of Illega...  Fake          0   \n",
              "4  Democrats say Trump agrees to work on immigrat...  Real          1   \n",
              "\n",
              "                                              vector  \n",
              "0  [0.0085234195, 0.019263458, -0.010577418, 0.03...  \n",
              "1  [0.00861828, 0.007408227, 0.0007675802, 0.0138...  \n",
              "2  [0.01793007, 0.006029178, -0.0054984074, 0.038...  \n",
              "3  [0.0124946935, 0.0121258395, -0.00019833064, 0...  \n",
              "4  [-0.002259819, 0.01164962, 0.0036556108, 0.028...  "
            ],
            "text/html": [
              "\n",
              "  <div id=\"df-7943ab01-156c-428d-975c-e904d63b8c91\" class=\"colab-df-container\">\n",
              "    <div>\n",
              "<style scoped>\n",
              "    .dataframe tbody tr th:only-of-type {\n",
              "        vertical-align: middle;\n",
              "    }\n",
              "\n",
              "    .dataframe tbody tr th {\n",
              "        vertical-align: top;\n",
              "    }\n",
              "\n",
              "    .dataframe thead th {\n",
              "        text-align: right;\n",
              "    }\n",
              "</style>\n",
              "<table border=\"1\" class=\"dataframe\">\n",
              "  <thead>\n",
              "    <tr style=\"text-align: right;\">\n",
              "      <th></th>\n",
              "      <th>Text</th>\n",
              "      <th>label</th>\n",
              "      <th>label_num</th>\n",
              "      <th>vector</th>\n",
              "    </tr>\n",
              "  </thead>\n",
              "  <tbody>\n",
              "    <tr>\n",
              "      <th>0</th>\n",
              "      <td>Top Trump Surrogate BRUTALLY Stabs Him In The...</td>\n",
              "      <td>Fake</td>\n",
              "      <td>0</td>\n",
              "      <td>[0.0085234195, 0.019263458, -0.010577418, 0.03...</td>\n",
              "    </tr>\n",
              "    <tr>\n",
              "      <th>1</th>\n",
              "      <td>U.S. conservative leader optimistic of common ...</td>\n",
              "      <td>Real</td>\n",
              "      <td>1</td>\n",
              "      <td>[0.00861828, 0.007408227, 0.0007675802, 0.0138...</td>\n",
              "    </tr>\n",
              "    <tr>\n",
              "      <th>2</th>\n",
              "      <td>Trump proposes U.S. tax overhaul, stirs concer...</td>\n",
              "      <td>Real</td>\n",
              "      <td>1</td>\n",
              "      <td>[0.01793007, 0.006029178, -0.0054984074, 0.038...</td>\n",
              "    </tr>\n",
              "    <tr>\n",
              "      <th>3</th>\n",
              "      <td>Court Forces Ohio To Allow Millions Of Illega...</td>\n",
              "      <td>Fake</td>\n",
              "      <td>0</td>\n",
              "      <td>[0.0124946935, 0.0121258395, -0.00019833064, 0...</td>\n",
              "    </tr>\n",
              "    <tr>\n",
              "      <th>4</th>\n",
              "      <td>Democrats say Trump agrees to work on immigrat...</td>\n",
              "      <td>Real</td>\n",
              "      <td>1</td>\n",
              "      <td>[-0.002259819, 0.01164962, 0.0036556108, 0.028...</td>\n",
              "    </tr>\n",
              "  </tbody>\n",
              "</table>\n",
              "</div>\n",
              "    <div class=\"colab-df-buttons\">\n",
              "\n",
              "  <div class=\"colab-df-container\">\n",
              "    <button class=\"colab-df-convert\" onclick=\"convertToInteractive('df-7943ab01-156c-428d-975c-e904d63b8c91')\"\n",
              "            title=\"Convert this dataframe to an interactive table.\"\n",
              "            style=\"display:none;\">\n",
              "\n",
              "  <svg xmlns=\"http://www.w3.org/2000/svg\" height=\"24px\" viewBox=\"0 -960 960 960\">\n",
              "    <path d=\"M120-120v-720h720v720H120Zm60-500h600v-160H180v160Zm220 220h160v-160H400v160Zm0 220h160v-160H400v160ZM180-400h160v-160H180v160Zm440 0h160v-160H620v160ZM180-180h160v-160H180v160Zm440 0h160v-160H620v160Z\"/>\n",
              "  </svg>\n",
              "    </button>\n",
              "\n",
              "  <style>\n",
              "    .colab-df-container {\n",
              "      display:flex;\n",
              "      gap: 12px;\n",
              "    }\n",
              "\n",
              "    .colab-df-convert {\n",
              "      background-color: #E8F0FE;\n",
              "      border: none;\n",
              "      border-radius: 50%;\n",
              "      cursor: pointer;\n",
              "      display: none;\n",
              "      fill: #1967D2;\n",
              "      height: 32px;\n",
              "      padding: 0 0 0 0;\n",
              "      width: 32px;\n",
              "    }\n",
              "\n",
              "    .colab-df-convert:hover {\n",
              "      background-color: #E2EBFA;\n",
              "      box-shadow: 0px 1px 2px rgba(60, 64, 67, 0.3), 0px 1px 3px 1px rgba(60, 64, 67, 0.15);\n",
              "      fill: #174EA6;\n",
              "    }\n",
              "\n",
              "    .colab-df-buttons div {\n",
              "      margin-bottom: 4px;\n",
              "    }\n",
              "\n",
              "    [theme=dark] .colab-df-convert {\n",
              "      background-color: #3B4455;\n",
              "      fill: #D2E3FC;\n",
              "    }\n",
              "\n",
              "    [theme=dark] .colab-df-convert:hover {\n",
              "      background-color: #434B5C;\n",
              "      box-shadow: 0px 1px 3px 1px rgba(0, 0, 0, 0.15);\n",
              "      filter: drop-shadow(0px 1px 2px rgba(0, 0, 0, 0.3));\n",
              "      fill: #FFFFFF;\n",
              "    }\n",
              "  </style>\n",
              "\n",
              "    <script>\n",
              "      const buttonEl =\n",
              "        document.querySelector('#df-7943ab01-156c-428d-975c-e904d63b8c91 button.colab-df-convert');\n",
              "      buttonEl.style.display =\n",
              "        google.colab.kernel.accessAllowed ? 'block' : 'none';\n",
              "\n",
              "      async function convertToInteractive(key) {\n",
              "        const element = document.querySelector('#df-7943ab01-156c-428d-975c-e904d63b8c91');\n",
              "        const dataTable =\n",
              "          await google.colab.kernel.invokeFunction('convertToInteractive',\n",
              "                                                    [key], {});\n",
              "        if (!dataTable) return;\n",
              "\n",
              "        const docLinkHtml = 'Like what you see? Visit the ' +\n",
              "          '<a target=\"_blank\" href=https://colab.research.google.com/notebooks/data_table.ipynb>data table notebook</a>'\n",
              "          + ' to learn more about interactive tables.';\n",
              "        element.innerHTML = '';\n",
              "        dataTable['output_type'] = 'display_data';\n",
              "        await google.colab.output.renderOutput(dataTable, element);\n",
              "        const docLink = document.createElement('div');\n",
              "        docLink.innerHTML = docLinkHtml;\n",
              "        element.appendChild(docLink);\n",
              "      }\n",
              "    </script>\n",
              "  </div>\n",
              "\n",
              "\n",
              "    <div id=\"df-c782fa3e-997c-4fd5-8678-0d352dfbe336\">\n",
              "      <button class=\"colab-df-quickchart\" onclick=\"quickchart('df-c782fa3e-997c-4fd5-8678-0d352dfbe336')\"\n",
              "                title=\"Suggest charts\"\n",
              "                style=\"display:none;\">\n",
              "\n",
              "<svg xmlns=\"http://www.w3.org/2000/svg\" height=\"24px\"viewBox=\"0 0 24 24\"\n",
              "     width=\"24px\">\n",
              "    <g>\n",
              "        <path d=\"M19 3H5c-1.1 0-2 .9-2 2v14c0 1.1.9 2 2 2h14c1.1 0 2-.9 2-2V5c0-1.1-.9-2-2-2zM9 17H7v-7h2v7zm4 0h-2V7h2v10zm4 0h-2v-4h2v4z\"/>\n",
              "    </g>\n",
              "</svg>\n",
              "      </button>\n",
              "\n",
              "<style>\n",
              "  .colab-df-quickchart {\n",
              "      --bg-color: #E8F0FE;\n",
              "      --fill-color: #1967D2;\n",
              "      --hover-bg-color: #E2EBFA;\n",
              "      --hover-fill-color: #174EA6;\n",
              "      --disabled-fill-color: #AAA;\n",
              "      --disabled-bg-color: #DDD;\n",
              "  }\n",
              "\n",
              "  [theme=dark] .colab-df-quickchart {\n",
              "      --bg-color: #3B4455;\n",
              "      --fill-color: #D2E3FC;\n",
              "      --hover-bg-color: #434B5C;\n",
              "      --hover-fill-color: #FFFFFF;\n",
              "      --disabled-bg-color: #3B4455;\n",
              "      --disabled-fill-color: #666;\n",
              "  }\n",
              "\n",
              "  .colab-df-quickchart {\n",
              "    background-color: var(--bg-color);\n",
              "    border: none;\n",
              "    border-radius: 50%;\n",
              "    cursor: pointer;\n",
              "    display: none;\n",
              "    fill: var(--fill-color);\n",
              "    height: 32px;\n",
              "    padding: 0;\n",
              "    width: 32px;\n",
              "  }\n",
              "\n",
              "  .colab-df-quickchart:hover {\n",
              "    background-color: var(--hover-bg-color);\n",
              "    box-shadow: 0 1px 2px rgba(60, 64, 67, 0.3), 0 1px 3px 1px rgba(60, 64, 67, 0.15);\n",
              "    fill: var(--button-hover-fill-color);\n",
              "  }\n",
              "\n",
              "  .colab-df-quickchart-complete:disabled,\n",
              "  .colab-df-quickchart-complete:disabled:hover {\n",
              "    background-color: var(--disabled-bg-color);\n",
              "    fill: var(--disabled-fill-color);\n",
              "    box-shadow: none;\n",
              "  }\n",
              "\n",
              "  .colab-df-spinner {\n",
              "    border: 2px solid var(--fill-color);\n",
              "    border-color: transparent;\n",
              "    border-bottom-color: var(--fill-color);\n",
              "    animation:\n",
              "      spin 1s steps(1) infinite;\n",
              "  }\n",
              "\n",
              "  @keyframes spin {\n",
              "    0% {\n",
              "      border-color: transparent;\n",
              "      border-bottom-color: var(--fill-color);\n",
              "      border-left-color: var(--fill-color);\n",
              "    }\n",
              "    20% {\n",
              "      border-color: transparent;\n",
              "      border-left-color: var(--fill-color);\n",
              "      border-top-color: var(--fill-color);\n",
              "    }\n",
              "    30% {\n",
              "      border-color: transparent;\n",
              "      border-left-color: var(--fill-color);\n",
              "      border-top-color: var(--fill-color);\n",
              "      border-right-color: var(--fill-color);\n",
              "    }\n",
              "    40% {\n",
              "      border-color: transparent;\n",
              "      border-right-color: var(--fill-color);\n",
              "      border-top-color: var(--fill-color);\n",
              "    }\n",
              "    60% {\n",
              "      border-color: transparent;\n",
              "      border-right-color: var(--fill-color);\n",
              "    }\n",
              "    80% {\n",
              "      border-color: transparent;\n",
              "      border-right-color: var(--fill-color);\n",
              "      border-bottom-color: var(--fill-color);\n",
              "    }\n",
              "    90% {\n",
              "      border-color: transparent;\n",
              "      border-bottom-color: var(--fill-color);\n",
              "    }\n",
              "  }\n",
              "</style>\n",
              "\n",
              "      <script>\n",
              "        async function quickchart(key) {\n",
              "          const quickchartButtonEl =\n",
              "            document.querySelector('#' + key + ' button');\n",
              "          quickchartButtonEl.disabled = true;  // To prevent multiple clicks.\n",
              "          quickchartButtonEl.classList.add('colab-df-spinner');\n",
              "          try {\n",
              "            const charts = await google.colab.kernel.invokeFunction(\n",
              "                'suggestCharts', [key], {});\n",
              "          } catch (error) {\n",
              "            console.error('Error during call to suggestCharts:', error);\n",
              "          }\n",
              "          quickchartButtonEl.classList.remove('colab-df-spinner');\n",
              "          quickchartButtonEl.classList.add('colab-df-quickchart-complete');\n",
              "        }\n",
              "        (() => {\n",
              "          let quickchartButtonEl =\n",
              "            document.querySelector('#df-c782fa3e-997c-4fd5-8678-0d352dfbe336 button');\n",
              "          quickchartButtonEl.style.display =\n",
              "            google.colab.kernel.accessAllowed ? 'block' : 'none';\n",
              "        })();\n",
              "      </script>\n",
              "    </div>\n",
              "\n",
              "    </div>\n",
              "  </div>\n"
            ],
            "application/vnd.google.colaboratory.intrinsic+json": {
              "type": "dataframe",
              "variable_name": "df",
              "summary": "{\n  \"name\": \"df\",\n  \"rows\": 9900,\n  \"fields\": [\n    {\n      \"column\": \"Text\",\n      \"properties\": {\n        \"dtype\": \"string\",\n        \"num_unique_values\": 9865,\n        \"samples\": [\n          \" ICYMI: SNL Skewers \\u201cMorning Joe\\u201d And It Is Hilarious This week s cold open for Saturday Night Live featured a parody of the morning show, Morning Joe. The sketch featured Alex Moffat as host Joe Scarborough and Kate McKinnon as Mika Mika Brzezinski. The sketch also has Alec Baldwin as President Donald Trump, who calls into the show as  John Miller,  a spokesperson for the White House. Back in the day, Trump was known for calling reporters all over the New York area pretending to be his own publicist. He would call, not to tout his business successes but to brag about his sex life.The sketch also made fun of the relationship between the hosts. The pair got engaged recently when they were celebrating Mika s 50th birthday. The sketch shows the response from the other panelists on the show, Mark Halperin, Willie Geist and Mike Barnacle, who all have no idea how to respond to Joe and Mika s behavior on the set.Featured image via Frederick M. Brown/Getty Images.\",\n          \" BOMBSHELL: Information Suggests Trump Associates DID Collude With Russia, According To Officials Wednesday was not a good day to be Donald Trump. In the aftermath of the disastrous Comey hearing where it was confirmed that The Donald s team was indeed being investigated   and of Rep. Nunes  decision to skip informing his fellow congressional Russia investigators of perfectly legal  incidental collection  of information about Trump associates and possibly the President* himself and run to The Donald with it instead   Trump has been flailing, attempting to distract from the whole Russia thing as much as possible.That s going to be very hard now, as U.S. officials have now confirmed that the facts suggest that members of his team were indeed working with the enemy. CNN reports:The FBI has information that indicates associates of President Donald Trump communicated with suspected Russian operatives to possibly coordinate the release of information damaging to Hillary Clinton s campaign, US officials told CNN.\",\n          \" Vladimir Putin Just Defended Trump In The WORST Way Possible (VIDEO) According to Russian dictator Vladimir Putin, it s silly to worry about little things like whether or not a couple of Russian ladies peed on Donald Trump s bed because it s much, much worse to publish memos that reveal these allegations.Putin says that there is a conspiracy to  delegitimize  the man and his team of hackers, fake news writers, and trolls he worked hard to install in the Oval Office by hacking Trump s political opponents and running an aggressive propaganda campaign. I don t know Mr. Trump, I have never met him, I don t know what he will do in the international arena, so I have no reason either to attack him, criticize him or defend him, Putin said at a press conference. Donald Trump has been with the most beautiful women in the world, so why would he need prostitutes in Moscow? To answer that question, we need only look to a 2001 edition of the Howard Stern Show in which Trump was reminded that he bragged that he likes to go to Russia to have sex with women because they  have no morals. Putin says that Russian security services  do not chase every US billionaire,  and that the release of the documents was worse than prostitutes. In a way, he s right, as the documents presented to both Trump and President Obama also allege that members of the President-elect s campaign staff directly worked with the Russian government during the campaign.On numerous occasions, Trump has repeated Russian propaganda while attacking U.S. intelligence agencies that have been exposing him for what he is and, of course, has directly quoted Putin (a man whom Trump says is  very smart ) while hurling barbs at Hillary Clinton.Trump and Putin have been screaming about the  fake news  release of actual documents that actual intelligence agencies are in possession of, but the BBC reported recently that the whole pissing Russian ladies thing is just the tip of the iceberg. Correspondent Paul Wood revealed last week that at least four sources have confirmed the information, with one U.S. intelligence source informing him that there is audio and video of The Donald s escapades, and an Israeli news source reports that the country s spies have been warned against sharing information with the United States for fear that Trump will relay it to Putin.Putin and Trump s bromance is disconcerting at best   especially when more than a baker s dozen intelligence agencies have confirmed that the man who stood up to join Trump in his attacks on our intelligence agencies has been confirmed to have interfered in our election.Watch it below:Featured image via Getty Images\"\n        ],\n        \"semantic_type\": \"\",\n        \"description\": \"\"\n      }\n    },\n    {\n      \"column\": \"label\",\n      \"properties\": {\n        \"dtype\": \"category\",\n        \"num_unique_values\": 2,\n        \"samples\": [\n          \"Real\",\n          \"Fake\"\n        ],\n        \"semantic_type\": \"\",\n        \"description\": \"\"\n      }\n    },\n    {\n      \"column\": \"label_num\",\n      \"properties\": {\n        \"dtype\": \"number\",\n        \"std\": 0,\n        \"min\": 0,\n        \"max\": 1,\n        \"num_unique_values\": 2,\n        \"samples\": [\n          1,\n          0\n        ],\n        \"semantic_type\": \"\",\n        \"description\": \"\"\n      }\n    },\n    {\n      \"column\": \"vector\",\n      \"properties\": {\n        \"dtype\": \"object\",\n        \"semantic_type\": \"\",\n        \"description\": \"\"\n      }\n    }\n  ]\n}"
            }
          },
          "metadata": {},
          "execution_count": 24
        }
      ],
      "source": [
        "df.head()"
      ]
    },
    {
      "cell_type": "markdown",
      "metadata": {
        "id": "j2XGariWM09j"
      },
      "source": [
        "**Train-Test splitting**"
      ]
    },
    {
      "cell_type": "code",
      "execution_count": 25,
      "metadata": {
        "id": "OJfmmbxBDYuO"
      },
      "outputs": [],
      "source": [
        "from sklearn.model_selection import train_test_split\n",
        "\n",
        "\n",
        "#Do the 'train-test' splitting with test size of 20% with random state of 2022 and stratify sampling too\n",
        "X_train, X_test, y_train, y_test = train_test_split(\n",
        "    df.vector.values,\n",
        "    df.label_num,\n",
        "    test_size=0.2, # 20% samples will go to test dataset\n",
        "    random_state=2022,\n",
        "    stratify=df.label_num\n",
        ")"
      ]
    },
    {
      "cell_type": "code",
      "source": [
        "X_train[:2]"
      ],
      "metadata": {
        "id": "BSEgX_9BnX5P",
        "outputId": "9396a145-ea98-41c5-dc54-50ba3647d6fa",
        "colab": {
          "base_uri": "https://localhost:8080/"
        }
      },
      "execution_count": 27,
      "outputs": [
        {
          "output_type": "execute_result",
          "data": {
            "text/plain": [
              "array([array([-2.81406008e-03,  6.87619392e-03,  3.39423376e-03,  3.95360738e-02,\n",
              "              -1.36175575e-02, -8.13308824e-03,  3.21084671e-02, -3.23449001e-02,\n",
              "               1.68617796e-02,  2.29651965e-02, -2.43959669e-02, -3.76296826e-02,\n",
              "              -6.46119332e-03,  1.64720993e-02, -2.45438758e-02,  4.68500890e-02,\n",
              "               5.70145063e-03,  2.61194576e-02,  4.22870228e-03, -3.21864001e-02,\n",
              "               4.29314002e-03,  1.92054529e-02,  4.24828455e-02, -2.57277768e-03,\n",
              "               2.06844565e-02,  3.26823303e-03, -2.66888309e-02, -1.15901825e-03,\n",
              "               6.50059246e-03, -2.36961502e-03, -1.50975427e-02, -2.89285003e-04,\n",
              "              -2.67314240e-02,  4.53402427e-05, -1.12956632e-02, -1.66448709e-02,\n",
              "               1.39644267e-02,  2.36211065e-03, -4.24514618e-03,  3.43926027e-02,\n",
              "               5.00894291e-03, -1.51310461e-02,  4.37048376e-02,  1.11676650e-02,\n",
              "              -4.91475128e-03, -1.57708433e-02, -2.10426785e-02,  9.78141464e-03,\n",
              "              -1.25600677e-02,  3.20965126e-02, -1.25541473e-02,  2.69360971e-02,\n",
              "              -4.93882457e-03, -4.56501823e-03,  3.04846140e-03,  7.12802692e-04,\n",
              "              -1.12886708e-02, -2.77648065e-02, -9.02390294e-03, -2.95280982e-02,\n",
              "               6.50116801e-03,  2.94479281e-02, -2.74591725e-02, -2.39625969e-03,\n",
              "               1.83411203e-02, -1.52410641e-02, -2.03626510e-02, -7.89964385e-03,\n",
              "              -3.73535813e-03,  2.24055871e-02,  1.17877685e-02,  2.74414872e-03,\n",
              "               2.81615034e-02,  2.37366906e-03, -2.27661394e-02, -2.53748577e-02,\n",
              "               8.30142386e-03,  1.77516434e-02,  2.15477068e-02,  3.04526705e-02,\n",
              "              -1.49405524e-02, -2.02871989e-02,  1.19839879e-02, -6.08834065e-03,\n",
              "              -9.52695962e-03, -2.70266104e-02, -3.27461660e-02,  5.35931140e-02,\n",
              "               8.25163617e-04,  4.56251903e-03,  5.18735033e-03, -1.13955373e-02,\n",
              "              -4.48139869e-02, -2.09904704e-02, -8.62097833e-03, -3.32614407e-02,\n",
              "               1.80786289e-02,  1.64134093e-02,  1.92082003e-02, -1.61223616e-02,\n",
              "              -1.97316147e-02, -2.00225823e-02,  4.20853402e-03,  9.77153308e-04,\n",
              "              -1.84037648e-02, -5.18497871e-03,  8.72567471e-04, -2.89161522e-02,\n",
              "              -3.83642805e-03, -1.79183576e-02, -2.74548400e-02, -2.30954010e-02,\n",
              "               3.82527336e-03, -4.14851168e-03,  3.15052643e-02, -7.56170461e-03,\n",
              "               2.14046445e-02, -2.55119409e-02,  2.43885387e-02,  8.91682133e-03,\n",
              "              -2.49527078e-02, -6.10882125e-04, -1.23839406e-02,  3.24645117e-02,\n",
              "              -8.97468720e-03, -9.91850533e-03, -1.86050832e-02, -1.45492647e-02,\n",
              "               2.41681840e-03,  1.18904402e-02, -1.41618270e-02, -1.12716425e-02,\n",
              "              -9.41463187e-03,  2.62480020e-03, -1.20782375e-03,  8.41818983e-04,\n",
              "               4.79184964e-04,  9.87359229e-03,  1.67982578e-02,  2.14349069e-02,\n",
              "               1.77154504e-02, -3.24810818e-02, -3.43072461e-04, -2.30178069e-02,\n",
              "               7.28481961e-03,  1.90783665e-02, -2.13066931e-03, -1.92064848e-02,\n",
              "              -2.20126733e-02, -9.88989230e-03,  2.89303046e-02,  2.92411936e-03,\n",
              "              -1.78368483e-02,  1.00970650e-02, -1.06886234e-02, -2.01922935e-02,\n",
              "              -1.90016460e-02, -1.98672544e-02, -3.13132182e-02, -1.98866450e-03,\n",
              "              -9.71984398e-03,  1.42946132e-02,  2.46612430e-02,  2.56639416e-03,\n",
              "               3.53980879e-03, -3.68783213e-02,  3.32297496e-02, -2.84712203e-02,\n",
              "               1.62970591e-02,  1.39201796e-02, -4.63920645e-02, -1.50809446e-02,\n",
              "               3.83647718e-03, -3.72347571e-02, -2.29465738e-02,  1.30805443e-03,\n",
              "               4.85730059e-02, -1.08654657e-02, -1.86551567e-02,  1.55943714e-03,\n",
              "              -3.83525193e-02, -3.26573290e-02,  1.45275088e-03,  1.18240749e-03,\n",
              "               6.53813500e-03, -2.12852359e-02,  2.62862025e-03,  7.17642019e-03,\n",
              "               8.29847436e-03,  1.24647506e-02,  1.41588040e-02,  1.02527402e-02,\n",
              "               1.43584237e-02, -3.72938765e-03, -1.52739836e-02,  2.04178654e-02,\n",
              "              -2.90419627e-03, -1.52552435e-02, -1.09339766e-02, -3.68830115e-02,\n",
              "              -4.95131593e-03,  1.85252000e-02, -3.40973251e-02, -1.67336911e-02,\n",
              "               5.47105679e-03, -8.48021545e-03, -1.14300894e-02,  2.83112773e-03,\n",
              "              -1.21721672e-02, -1.41266473e-02, -1.88864730e-02,  2.46806126e-02,\n",
              "              -1.28772557e-02,  1.60532445e-02, -2.16912143e-02,  1.21367984e-02,\n",
              "               2.01988462e-02,  9.79538076e-03, -1.60866473e-02, -6.09609485e-03,\n",
              "              -2.17779540e-03,  6.79562008e-03, -7.50076678e-03, -1.16815849e-03,\n",
              "               1.76545307e-02, -1.70544945e-02,  2.43063644e-02,  1.60499904e-02,\n",
              "               1.71913411e-02, -1.37621397e-03,  3.91767221e-03, -2.68593784e-02,\n",
              "              -1.97115988e-02,  8.85599758e-03,  3.24454866e-02, -1.03777833e-02,\n",
              "               3.97590687e-03, -1.49829937e-02,  2.12797672e-02, -5.10521047e-03,\n",
              "               2.29971893e-02, -1.62068345e-02, -5.80431707e-03, -2.29442082e-02,\n",
              "               8.73795152e-03,  1.63131412e-02, -3.39952006e-04,  2.02359855e-02,\n",
              "              -5.55884908e-04, -1.92645900e-02, -7.08619086e-03,  5.52073866e-03,\n",
              "               3.01583037e-02,  1.59794614e-02,  1.72893181e-02, -2.38469392e-02,\n",
              "               8.08280252e-04, -4.55226749e-03, -2.46009901e-02, -2.33786311e-02,\n",
              "              -1.01810824e-02,  8.47345311e-03, -3.22429016e-02,  1.53548736e-02,\n",
              "               1.58010684e-02,  2.75683552e-02, -2.85125729e-02,  1.69519894e-03,\n",
              "              -3.12513299e-02, -1.28291715e-02,  2.52712681e-03,  4.95385379e-02,\n",
              "               3.69691849e-02, -1.08548743e-03,  2.37245318e-02, -1.60889234e-02,\n",
              "              -7.41368253e-03, -3.38954292e-02, -2.02527326e-02, -5.60389366e-03,\n",
              "               6.58039143e-03, -6.69798674e-03,  7.37744244e-03,  2.16982849e-02,\n",
              "              -7.61008821e-03, -1.18815862e-02, -4.07491550e-02,  1.89214926e-02,\n",
              "              -1.10899215e-03,  1.52118728e-02, -1.41772889e-02,  1.72339485e-03,\n",
              "              -3.16459015e-02,  6.08099764e-03, -4.01739776e-03, -3.17804776e-02,\n",
              "              -1.58044603e-03, -1.28854318e-02,  7.18124816e-03, -7.76810944e-03],\n",
              "             dtype=float32)                                                       ,\n",
              "       array([ 7.40770809e-03,  3.33923940e-03, -1.73194408e-02,  2.53530741e-02,\n",
              "              -2.37447582e-02, -1.07460283e-02,  1.29910680e-02, -2.03855727e-02,\n",
              "               3.27965356e-02,  3.37703200e-03, -1.71258524e-02, -2.34663226e-02,\n",
              "              -6.91226218e-03,  1.70093365e-02, -4.58564907e-02,  2.82412991e-02,\n",
              "               2.63021253e-02,  3.46590541e-02, -4.07156767e-03, -3.44276279e-02,\n",
              "              -3.42047075e-04,  3.52422930e-02,  2.20255144e-02, -6.59729529e-04,\n",
              "               7.13739824e-03, -2.47586519e-03, -1.77565403e-02,  5.20685874e-03,\n",
              "               8.93999822e-03, -2.22013192e-03, -7.62191415e-03,  1.68703292e-02,\n",
              "              -3.45864631e-02, -8.02864600e-03,  1.45929074e-02, -9.11107101e-03,\n",
              "               2.88324524e-02,  1.17147379e-02,  1.39491213e-02,  2.16588117e-02,\n",
              "               2.12183632e-02, -1.30857956e-02,  3.32901552e-02,  9.27242171e-03,\n",
              "              -2.78313681e-02, -1.35816522e-02, -1.28395734e-02, -5.37800649e-03,\n",
              "               8.85647431e-04,  3.25843841e-02, -6.20608358e-03,  2.27205120e-02,\n",
              "              -9.61042847e-03, -5.81535860e-04,  2.19325684e-02,  9.78994556e-03,\n",
              "              -1.80998873e-02, -2.42020711e-02, -5.14324522e-03, -4.56950814e-02,\n",
              "               1.28568700e-02,  1.42180808e-02, -3.39175165e-02, -1.53366094e-02,\n",
              "               1.54980016e-03, -1.41854910e-02, -2.95926649e-02,  2.89687812e-02,\n",
              "              -8.95852037e-03,  2.18854249e-02,  1.39053846e-02, -1.58508599e-03,\n",
              "               3.28027457e-02, -3.04429187e-03, -3.69911119e-02, -1.04003204e-02,\n",
              "               2.61141751e-02,  1.73985437e-02,  2.18722913e-02,  3.45286839e-02,\n",
              "              -8.97067040e-03, -1.95447262e-02,  1.31847644e-02, -1.82239898e-03,\n",
              "              -1.84202450e-03, -1.93341207e-02, -4.05486077e-02,  4.51151505e-02,\n",
              "               1.31048716e-03, -4.78901900e-03,  4.20700107e-03, -2.38683377e-03,\n",
              "              -3.00517976e-02, -3.03613469e-02, -2.81354343e-03, -2.68214177e-02,\n",
              "               2.28190776e-02,  2.83540785e-02,  7.55739119e-03, -2.06860323e-02,\n",
              "              -2.74912324e-02, -8.15575197e-03, -1.22189836e-03,  1.08552147e-02,\n",
              "              -4.35275072e-03, -1.19585209e-02,  9.85424221e-03, -3.19378413e-02,\n",
              "              -1.96800032e-03, -2.03108452e-02, -2.58716904e-02, -8.89696926e-03,\n",
              "               2.37963359e-05, -5.34519320e-03,  3.19992118e-02, -1.57634390e-03,\n",
              "               1.72153525e-02, -1.67592391e-02,  3.08105648e-02,  4.55284212e-03,\n",
              "              -1.52876992e-02, -2.18186853e-03, -2.34768614e-02,  2.41555795e-02,\n",
              "               3.93224834e-03, -1.64645985e-02, -2.60510854e-02, -1.52860824e-02,\n",
              "               5.28882258e-03, -5.14480053e-03, -8.55617784e-03, -4.89408970e-02,\n",
              "               3.74538405e-03,  1.84434035e-03, -7.79365562e-03, -1.76400132e-02,\n",
              "               9.64865088e-04,  2.06218269e-02,  1.34225411e-03,  1.62653606e-02,\n",
              "               2.96830144e-02, -2.05867328e-02, -3.95791791e-03, -3.80635262e-03,\n",
              "               7.56128598e-03,  1.01033328e-02,  3.19248764e-03, -2.47700270e-02,\n",
              "              -1.55257639e-02, -8.18008184e-03,  3.39406542e-02,  9.33035649e-03,\n",
              "               3.02683003e-03,  5.33158099e-03, -1.21403318e-02, -3.70871578e-03,\n",
              "              -1.30989756e-02, -1.38183162e-02, -2.27377191e-02, -1.73253380e-02,\n",
              "              -2.12530908e-03,  1.89162623e-02,  2.10062917e-02,  2.52567586e-02,\n",
              "               9.34328325e-03, -5.02124429e-02,  2.07045637e-02, -2.84047015e-02,\n",
              "               1.69682410e-02,  9.29086935e-03, -2.50798203e-02, -7.83641730e-03,\n",
              "               1.01368511e-02, -3.90995517e-02, -8.31469335e-03, -8.52897589e-04,\n",
              "               4.01955657e-02, -2.84411218e-02, -2.08064280e-02,  3.72399250e-03,\n",
              "              -3.27222571e-02, -1.66668799e-02,  1.40997926e-02,  6.73040887e-03,\n",
              "              -7.87294377e-03, -1.35806259e-02, -1.10383267e-02, -2.11766735e-03,\n",
              "               2.24671103e-02,  1.97470225e-02,  1.23400223e-02,  1.46585135e-02,\n",
              "               2.72828750e-02,  8.05260241e-03, -9.57874488e-03,  3.02614266e-04,\n",
              "               5.49695361e-03, -3.64365312e-03, -1.08457319e-02, -2.30764765e-02,\n",
              "               1.30677689e-02,  1.12738591e-02, -1.63962822e-02, -4.68082819e-03,\n",
              "               1.48440311e-02, -9.88891535e-03, -2.97133997e-03,  1.35230403e-02,\n",
              "              -4.88524558e-03,  5.23656607e-03, -4.42736689e-03,  2.58067958e-02,\n",
              "              -8.79861764e-04,  1.10679567e-02, -2.56516617e-02,  1.06893232e-04,\n",
              "               1.82125606e-02,  2.51619145e-04, -2.59041525e-02, -2.17503756e-02,\n",
              "              -1.81317106e-02,  9.78467707e-03, -5.58732729e-03, -1.99708831e-03,\n",
              "               2.74614878e-02,  9.34121897e-04,  1.68634355e-02,  1.08017530e-02,\n",
              "               1.04105016e-02,  2.26277020e-03, -2.32429265e-05, -8.59588850e-03,\n",
              "              -1.94689855e-02,  3.73099791e-03,  4.08301465e-02, -9.95785347e-04,\n",
              "               1.17893703e-02, -3.29446271e-02,  3.39075550e-02,  6.55072555e-03,\n",
              "               6.20489754e-03, -1.63837597e-02,  2.23546359e-03, -3.61882634e-02,\n",
              "               3.27572547e-04,  1.55908186e-02,  1.46247481e-03,  4.43246067e-02,\n",
              "               1.09531740e-02, -2.01211665e-02,  6.02009241e-03,  2.51155980e-02,\n",
              "               1.34773413e-02,  2.11448576e-02,  2.13028025e-02, -7.45790033e-03,\n",
              "               1.53126400e-02,  1.27510997e-02, -1.37436874e-02, -2.88591441e-02,\n",
              "              -5.39842993e-03,  4.52797720e-03, -8.85578152e-03,  7.61500234e-03,\n",
              "               7.66266137e-03,  4.02905867e-02, -1.86448954e-02, -4.12004476e-04,\n",
              "              -2.11167708e-02, -8.67793802e-03,  9.61105712e-03,  2.68638451e-02,\n",
              "               4.19969708e-02,  1.65776443e-02,  2.38241851e-02, -1.23469876e-02,\n",
              "              -1.63119435e-02, -3.69703658e-02, -1.91582479e-02, -6.73787901e-03,\n",
              "              -1.08735741e-03,  5.45803644e-03,  1.38294306e-02,  2.11893432e-02,\n",
              "              -5.69478609e-03, -4.97774221e-03, -1.83414072e-02,  2.00194912e-03,\n",
              "               1.95320938e-02,  1.52523136e-02, -6.01635454e-03,  1.42518980e-02,\n",
              "              -2.86802091e-02, -1.00654736e-02, -1.67143566e-03, -1.88926309e-02,\n",
              "               1.43197663e-02, -3.39312181e-02,  1.32617252e-02,  2.80478201e-03],\n",
              "             dtype=float32)                                                       ],\n",
              "      dtype=object)"
            ]
          },
          "metadata": {},
          "execution_count": 27
        }
      ]
    },
    {
      "cell_type": "markdown",
      "metadata": {
        "id": "08-oivPtM8a5"
      },
      "source": [
        "**Reshaping the X_train and X_test so as to fit for models**"
      ]
    },
    {
      "cell_type": "code",
      "execution_count": 26,
      "metadata": {
        "colab": {
          "base_uri": "https://localhost:8080/"
        },
        "id": "DOOO4prQi7hg",
        "outputId": "9781d2aa-b869-4f3d-ceb8-a86be7aa9398"
      },
      "outputs": [
        {
          "output_type": "stream",
          "name": "stdout",
          "text": [
            "Shape of X_train before reshaping:  (7920,)\n",
            "Shape of X_test before reshaping:  (1980,)\n",
            "Shape of X_train after reshaping:  (7920, 300)\n",
            "Shape of X_test after reshaping:  (1980, 300)\n"
          ]
        }
      ],
      "source": [
        "print(\"Shape of X_train before reshaping: \", X_train.shape)\n",
        "print(\"Shape of X_test before reshaping: \", X_test.shape)\n",
        "\n",
        "\n",
        "X_train_2d = np.stack(X_train)\n",
        "X_test_2d =  np.stack(X_test)\n",
        "\n",
        "print(\"Shape of X_train after reshaping: \", X_train_2d.shape)\n",
        "print(\"Shape of X_test after reshaping: \", X_test_2d.shape)"
      ]
    },
    {
      "cell_type": "code",
      "source": [
        "X_train_2d[:2]"
      ],
      "metadata": {
        "id": "u5gX4ltsnqlP",
        "outputId": "51daff43-cca3-439e-80e1-44ea23130048",
        "colab": {
          "base_uri": "https://localhost:8080/"
        }
      },
      "execution_count": 28,
      "outputs": [
        {
          "output_type": "execute_result",
          "data": {
            "text/plain": [
              "array([[-2.81406008e-03,  6.87619392e-03,  3.39423376e-03,\n",
              "         3.95360738e-02, -1.36175575e-02, -8.13308824e-03,\n",
              "         3.21084671e-02, -3.23449001e-02,  1.68617796e-02,\n",
              "         2.29651965e-02, -2.43959669e-02, -3.76296826e-02,\n",
              "        -6.46119332e-03,  1.64720993e-02, -2.45438758e-02,\n",
              "         4.68500890e-02,  5.70145063e-03,  2.61194576e-02,\n",
              "         4.22870228e-03, -3.21864001e-02,  4.29314002e-03,\n",
              "         1.92054529e-02,  4.24828455e-02, -2.57277768e-03,\n",
              "         2.06844565e-02,  3.26823303e-03, -2.66888309e-02,\n",
              "        -1.15901825e-03,  6.50059246e-03, -2.36961502e-03,\n",
              "        -1.50975427e-02, -2.89285003e-04, -2.67314240e-02,\n",
              "         4.53402427e-05, -1.12956632e-02, -1.66448709e-02,\n",
              "         1.39644267e-02,  2.36211065e-03, -4.24514618e-03,\n",
              "         3.43926027e-02,  5.00894291e-03, -1.51310461e-02,\n",
              "         4.37048376e-02,  1.11676650e-02, -4.91475128e-03,\n",
              "        -1.57708433e-02, -2.10426785e-02,  9.78141464e-03,\n",
              "        -1.25600677e-02,  3.20965126e-02, -1.25541473e-02,\n",
              "         2.69360971e-02, -4.93882457e-03, -4.56501823e-03,\n",
              "         3.04846140e-03,  7.12802692e-04, -1.12886708e-02,\n",
              "        -2.77648065e-02, -9.02390294e-03, -2.95280982e-02,\n",
              "         6.50116801e-03,  2.94479281e-02, -2.74591725e-02,\n",
              "        -2.39625969e-03,  1.83411203e-02, -1.52410641e-02,\n",
              "        -2.03626510e-02, -7.89964385e-03, -3.73535813e-03,\n",
              "         2.24055871e-02,  1.17877685e-02,  2.74414872e-03,\n",
              "         2.81615034e-02,  2.37366906e-03, -2.27661394e-02,\n",
              "        -2.53748577e-02,  8.30142386e-03,  1.77516434e-02,\n",
              "         2.15477068e-02,  3.04526705e-02, -1.49405524e-02,\n",
              "        -2.02871989e-02,  1.19839879e-02, -6.08834065e-03,\n",
              "        -9.52695962e-03, -2.70266104e-02, -3.27461660e-02,\n",
              "         5.35931140e-02,  8.25163617e-04,  4.56251903e-03,\n",
              "         5.18735033e-03, -1.13955373e-02, -4.48139869e-02,\n",
              "        -2.09904704e-02, -8.62097833e-03, -3.32614407e-02,\n",
              "         1.80786289e-02,  1.64134093e-02,  1.92082003e-02,\n",
              "        -1.61223616e-02, -1.97316147e-02, -2.00225823e-02,\n",
              "         4.20853402e-03,  9.77153308e-04, -1.84037648e-02,\n",
              "        -5.18497871e-03,  8.72567471e-04, -2.89161522e-02,\n",
              "        -3.83642805e-03, -1.79183576e-02, -2.74548400e-02,\n",
              "        -2.30954010e-02,  3.82527336e-03, -4.14851168e-03,\n",
              "         3.15052643e-02, -7.56170461e-03,  2.14046445e-02,\n",
              "        -2.55119409e-02,  2.43885387e-02,  8.91682133e-03,\n",
              "        -2.49527078e-02, -6.10882125e-04, -1.23839406e-02,\n",
              "         3.24645117e-02, -8.97468720e-03, -9.91850533e-03,\n",
              "        -1.86050832e-02, -1.45492647e-02,  2.41681840e-03,\n",
              "         1.18904402e-02, -1.41618270e-02, -1.12716425e-02,\n",
              "        -9.41463187e-03,  2.62480020e-03, -1.20782375e-03,\n",
              "         8.41818983e-04,  4.79184964e-04,  9.87359229e-03,\n",
              "         1.67982578e-02,  2.14349069e-02,  1.77154504e-02,\n",
              "        -3.24810818e-02, -3.43072461e-04, -2.30178069e-02,\n",
              "         7.28481961e-03,  1.90783665e-02, -2.13066931e-03,\n",
              "        -1.92064848e-02, -2.20126733e-02, -9.88989230e-03,\n",
              "         2.89303046e-02,  2.92411936e-03, -1.78368483e-02,\n",
              "         1.00970650e-02, -1.06886234e-02, -2.01922935e-02,\n",
              "        -1.90016460e-02, -1.98672544e-02, -3.13132182e-02,\n",
              "        -1.98866450e-03, -9.71984398e-03,  1.42946132e-02,\n",
              "         2.46612430e-02,  2.56639416e-03,  3.53980879e-03,\n",
              "        -3.68783213e-02,  3.32297496e-02, -2.84712203e-02,\n",
              "         1.62970591e-02,  1.39201796e-02, -4.63920645e-02,\n",
              "        -1.50809446e-02,  3.83647718e-03, -3.72347571e-02,\n",
              "        -2.29465738e-02,  1.30805443e-03,  4.85730059e-02,\n",
              "        -1.08654657e-02, -1.86551567e-02,  1.55943714e-03,\n",
              "        -3.83525193e-02, -3.26573290e-02,  1.45275088e-03,\n",
              "         1.18240749e-03,  6.53813500e-03, -2.12852359e-02,\n",
              "         2.62862025e-03,  7.17642019e-03,  8.29847436e-03,\n",
              "         1.24647506e-02,  1.41588040e-02,  1.02527402e-02,\n",
              "         1.43584237e-02, -3.72938765e-03, -1.52739836e-02,\n",
              "         2.04178654e-02, -2.90419627e-03, -1.52552435e-02,\n",
              "        -1.09339766e-02, -3.68830115e-02, -4.95131593e-03,\n",
              "         1.85252000e-02, -3.40973251e-02, -1.67336911e-02,\n",
              "         5.47105679e-03, -8.48021545e-03, -1.14300894e-02,\n",
              "         2.83112773e-03, -1.21721672e-02, -1.41266473e-02,\n",
              "        -1.88864730e-02,  2.46806126e-02, -1.28772557e-02,\n",
              "         1.60532445e-02, -2.16912143e-02,  1.21367984e-02,\n",
              "         2.01988462e-02,  9.79538076e-03, -1.60866473e-02,\n",
              "        -6.09609485e-03, -2.17779540e-03,  6.79562008e-03,\n",
              "        -7.50076678e-03, -1.16815849e-03,  1.76545307e-02,\n",
              "        -1.70544945e-02,  2.43063644e-02,  1.60499904e-02,\n",
              "         1.71913411e-02, -1.37621397e-03,  3.91767221e-03,\n",
              "        -2.68593784e-02, -1.97115988e-02,  8.85599758e-03,\n",
              "         3.24454866e-02, -1.03777833e-02,  3.97590687e-03,\n",
              "        -1.49829937e-02,  2.12797672e-02, -5.10521047e-03,\n",
              "         2.29971893e-02, -1.62068345e-02, -5.80431707e-03,\n",
              "        -2.29442082e-02,  8.73795152e-03,  1.63131412e-02,\n",
              "        -3.39952006e-04,  2.02359855e-02, -5.55884908e-04,\n",
              "        -1.92645900e-02, -7.08619086e-03,  5.52073866e-03,\n",
              "         3.01583037e-02,  1.59794614e-02,  1.72893181e-02,\n",
              "        -2.38469392e-02,  8.08280252e-04, -4.55226749e-03,\n",
              "        -2.46009901e-02, -2.33786311e-02, -1.01810824e-02,\n",
              "         8.47345311e-03, -3.22429016e-02,  1.53548736e-02,\n",
              "         1.58010684e-02,  2.75683552e-02, -2.85125729e-02,\n",
              "         1.69519894e-03, -3.12513299e-02, -1.28291715e-02,\n",
              "         2.52712681e-03,  4.95385379e-02,  3.69691849e-02,\n",
              "        -1.08548743e-03,  2.37245318e-02, -1.60889234e-02,\n",
              "        -7.41368253e-03, -3.38954292e-02, -2.02527326e-02,\n",
              "        -5.60389366e-03,  6.58039143e-03, -6.69798674e-03,\n",
              "         7.37744244e-03,  2.16982849e-02, -7.61008821e-03,\n",
              "        -1.18815862e-02, -4.07491550e-02,  1.89214926e-02,\n",
              "        -1.10899215e-03,  1.52118728e-02, -1.41772889e-02,\n",
              "         1.72339485e-03, -3.16459015e-02,  6.08099764e-03,\n",
              "        -4.01739776e-03, -3.17804776e-02, -1.58044603e-03,\n",
              "        -1.28854318e-02,  7.18124816e-03, -7.76810944e-03],\n",
              "       [ 7.40770809e-03,  3.33923940e-03, -1.73194408e-02,\n",
              "         2.53530741e-02, -2.37447582e-02, -1.07460283e-02,\n",
              "         1.29910680e-02, -2.03855727e-02,  3.27965356e-02,\n",
              "         3.37703200e-03, -1.71258524e-02, -2.34663226e-02,\n",
              "        -6.91226218e-03,  1.70093365e-02, -4.58564907e-02,\n",
              "         2.82412991e-02,  2.63021253e-02,  3.46590541e-02,\n",
              "        -4.07156767e-03, -3.44276279e-02, -3.42047075e-04,\n",
              "         3.52422930e-02,  2.20255144e-02, -6.59729529e-04,\n",
              "         7.13739824e-03, -2.47586519e-03, -1.77565403e-02,\n",
              "         5.20685874e-03,  8.93999822e-03, -2.22013192e-03,\n",
              "        -7.62191415e-03,  1.68703292e-02, -3.45864631e-02,\n",
              "        -8.02864600e-03,  1.45929074e-02, -9.11107101e-03,\n",
              "         2.88324524e-02,  1.17147379e-02,  1.39491213e-02,\n",
              "         2.16588117e-02,  2.12183632e-02, -1.30857956e-02,\n",
              "         3.32901552e-02,  9.27242171e-03, -2.78313681e-02,\n",
              "        -1.35816522e-02, -1.28395734e-02, -5.37800649e-03,\n",
              "         8.85647431e-04,  3.25843841e-02, -6.20608358e-03,\n",
              "         2.27205120e-02, -9.61042847e-03, -5.81535860e-04,\n",
              "         2.19325684e-02,  9.78994556e-03, -1.80998873e-02,\n",
              "        -2.42020711e-02, -5.14324522e-03, -4.56950814e-02,\n",
              "         1.28568700e-02,  1.42180808e-02, -3.39175165e-02,\n",
              "        -1.53366094e-02,  1.54980016e-03, -1.41854910e-02,\n",
              "        -2.95926649e-02,  2.89687812e-02, -8.95852037e-03,\n",
              "         2.18854249e-02,  1.39053846e-02, -1.58508599e-03,\n",
              "         3.28027457e-02, -3.04429187e-03, -3.69911119e-02,\n",
              "        -1.04003204e-02,  2.61141751e-02,  1.73985437e-02,\n",
              "         2.18722913e-02,  3.45286839e-02, -8.97067040e-03,\n",
              "        -1.95447262e-02,  1.31847644e-02, -1.82239898e-03,\n",
              "        -1.84202450e-03, -1.93341207e-02, -4.05486077e-02,\n",
              "         4.51151505e-02,  1.31048716e-03, -4.78901900e-03,\n",
              "         4.20700107e-03, -2.38683377e-03, -3.00517976e-02,\n",
              "        -3.03613469e-02, -2.81354343e-03, -2.68214177e-02,\n",
              "         2.28190776e-02,  2.83540785e-02,  7.55739119e-03,\n",
              "        -2.06860323e-02, -2.74912324e-02, -8.15575197e-03,\n",
              "        -1.22189836e-03,  1.08552147e-02, -4.35275072e-03,\n",
              "        -1.19585209e-02,  9.85424221e-03, -3.19378413e-02,\n",
              "        -1.96800032e-03, -2.03108452e-02, -2.58716904e-02,\n",
              "        -8.89696926e-03,  2.37963359e-05, -5.34519320e-03,\n",
              "         3.19992118e-02, -1.57634390e-03,  1.72153525e-02,\n",
              "        -1.67592391e-02,  3.08105648e-02,  4.55284212e-03,\n",
              "        -1.52876992e-02, -2.18186853e-03, -2.34768614e-02,\n",
              "         2.41555795e-02,  3.93224834e-03, -1.64645985e-02,\n",
              "        -2.60510854e-02, -1.52860824e-02,  5.28882258e-03,\n",
              "        -5.14480053e-03, -8.55617784e-03, -4.89408970e-02,\n",
              "         3.74538405e-03,  1.84434035e-03, -7.79365562e-03,\n",
              "        -1.76400132e-02,  9.64865088e-04,  2.06218269e-02,\n",
              "         1.34225411e-03,  1.62653606e-02,  2.96830144e-02,\n",
              "        -2.05867328e-02, -3.95791791e-03, -3.80635262e-03,\n",
              "         7.56128598e-03,  1.01033328e-02,  3.19248764e-03,\n",
              "        -2.47700270e-02, -1.55257639e-02, -8.18008184e-03,\n",
              "         3.39406542e-02,  9.33035649e-03,  3.02683003e-03,\n",
              "         5.33158099e-03, -1.21403318e-02, -3.70871578e-03,\n",
              "        -1.30989756e-02, -1.38183162e-02, -2.27377191e-02,\n",
              "        -1.73253380e-02, -2.12530908e-03,  1.89162623e-02,\n",
              "         2.10062917e-02,  2.52567586e-02,  9.34328325e-03,\n",
              "        -5.02124429e-02,  2.07045637e-02, -2.84047015e-02,\n",
              "         1.69682410e-02,  9.29086935e-03, -2.50798203e-02,\n",
              "        -7.83641730e-03,  1.01368511e-02, -3.90995517e-02,\n",
              "        -8.31469335e-03, -8.52897589e-04,  4.01955657e-02,\n",
              "        -2.84411218e-02, -2.08064280e-02,  3.72399250e-03,\n",
              "        -3.27222571e-02, -1.66668799e-02,  1.40997926e-02,\n",
              "         6.73040887e-03, -7.87294377e-03, -1.35806259e-02,\n",
              "        -1.10383267e-02, -2.11766735e-03,  2.24671103e-02,\n",
              "         1.97470225e-02,  1.23400223e-02,  1.46585135e-02,\n",
              "         2.72828750e-02,  8.05260241e-03, -9.57874488e-03,\n",
              "         3.02614266e-04,  5.49695361e-03, -3.64365312e-03,\n",
              "        -1.08457319e-02, -2.30764765e-02,  1.30677689e-02,\n",
              "         1.12738591e-02, -1.63962822e-02, -4.68082819e-03,\n",
              "         1.48440311e-02, -9.88891535e-03, -2.97133997e-03,\n",
              "         1.35230403e-02, -4.88524558e-03,  5.23656607e-03,\n",
              "        -4.42736689e-03,  2.58067958e-02, -8.79861764e-04,\n",
              "         1.10679567e-02, -2.56516617e-02,  1.06893232e-04,\n",
              "         1.82125606e-02,  2.51619145e-04, -2.59041525e-02,\n",
              "        -2.17503756e-02, -1.81317106e-02,  9.78467707e-03,\n",
              "        -5.58732729e-03, -1.99708831e-03,  2.74614878e-02,\n",
              "         9.34121897e-04,  1.68634355e-02,  1.08017530e-02,\n",
              "         1.04105016e-02,  2.26277020e-03, -2.32429265e-05,\n",
              "        -8.59588850e-03, -1.94689855e-02,  3.73099791e-03,\n",
              "         4.08301465e-02, -9.95785347e-04,  1.17893703e-02,\n",
              "        -3.29446271e-02,  3.39075550e-02,  6.55072555e-03,\n",
              "         6.20489754e-03, -1.63837597e-02,  2.23546359e-03,\n",
              "        -3.61882634e-02,  3.27572547e-04,  1.55908186e-02,\n",
              "         1.46247481e-03,  4.43246067e-02,  1.09531740e-02,\n",
              "        -2.01211665e-02,  6.02009241e-03,  2.51155980e-02,\n",
              "         1.34773413e-02,  2.11448576e-02,  2.13028025e-02,\n",
              "        -7.45790033e-03,  1.53126400e-02,  1.27510997e-02,\n",
              "        -1.37436874e-02, -2.88591441e-02, -5.39842993e-03,\n",
              "         4.52797720e-03, -8.85578152e-03,  7.61500234e-03,\n",
              "         7.66266137e-03,  4.02905867e-02, -1.86448954e-02,\n",
              "        -4.12004476e-04, -2.11167708e-02, -8.67793802e-03,\n",
              "         9.61105712e-03,  2.68638451e-02,  4.19969708e-02,\n",
              "         1.65776443e-02,  2.38241851e-02, -1.23469876e-02,\n",
              "        -1.63119435e-02, -3.69703658e-02, -1.91582479e-02,\n",
              "        -6.73787901e-03, -1.08735741e-03,  5.45803644e-03,\n",
              "         1.38294306e-02,  2.11893432e-02, -5.69478609e-03,\n",
              "        -4.97774221e-03, -1.83414072e-02,  2.00194912e-03,\n",
              "         1.95320938e-02,  1.52523136e-02, -6.01635454e-03,\n",
              "         1.42518980e-02, -2.86802091e-02, -1.00654736e-02,\n",
              "        -1.67143566e-03, -1.88926309e-02,  1.43197663e-02,\n",
              "        -3.39312181e-02,  1.32617252e-02,  2.80478201e-03]], dtype=float32)"
            ]
          },
          "metadata": {},
          "execution_count": 28
        }
      ]
    },
    {
      "cell_type": "markdown",
      "metadata": {
        "id": "W5HmfA2gRyQY"
      },
      "source": [
        "**Train Machine Learning Model**\n",
        "\n",
        "I tried Random forest, decision tree, naive bayes etc classifiers as well but gradient boosting gave the best performance of all"
      ]
    },
    {
      "cell_type": "code",
      "execution_count": 29,
      "metadata": {
        "colab": {
          "base_uri": "https://localhost:8080/"
        },
        "id": "1Q8Sy2iENZr7",
        "outputId": "d03ee197-6057-4158-e52e-54b7a012499f"
      },
      "outputs": [
        {
          "output_type": "stream",
          "name": "stdout",
          "text": [
            "              precision    recall  f1-score   support\n",
            "\n",
            "           0       0.99      0.97      0.98      1000\n",
            "           1       0.97      0.99      0.98       980\n",
            "\n",
            "    accuracy                           0.98      1980\n",
            "   macro avg       0.98      0.98      0.98      1980\n",
            "weighted avg       0.98      0.98      0.98      1980\n",
            "\n"
          ]
        }
      ],
      "source": [
        "from sklearn.ensemble import GradientBoostingClassifier\n",
        "from sklearn.metrics import classification_report\n",
        "\n",
        "#1. creating a GradientBoosting model object\n",
        "clf = GradientBoostingClassifier()\n",
        "\n",
        "#2. fit with all_train_embeddings and y_train\n",
        "clf.fit(X_train_2d, y_train)\n",
        "\n",
        "\n",
        "#3. get the predictions for all_test_embeddings and store it in y_pred\n",
        "y_pred = clf.predict(X_test_2d)\n",
        "\n",
        "\n",
        "#4. print the classfication report\n",
        "print(classification_report(y_test, y_pred))"
      ]
    },
    {
      "cell_type": "markdown",
      "metadata": {
        "id": "ALyfOxd2X9cj"
      },
      "source": [
        "**Make some predictions**"
      ]
    },
    {
      "cell_type": "code",
      "execution_count": 30,
      "metadata": {
        "id": "GySAuwJaX9cj",
        "outputId": "759b7bbd-cebc-43d4-b4f2-8976c62ab511",
        "colab": {
          "base_uri": "https://localhost:8080/"
        }
      },
      "outputs": [
        {
          "output_type": "execute_result",
          "data": {
            "text/plain": [
              "array([1, 0, 0])"
            ]
          },
          "metadata": {},
          "execution_count": 30
        }
      ],
      "source": [
        "test_news = [\n",
        "    \"Michigan governor denies misleading U.S. House on Flint water (Reuters) - Michigan Governor Rick Snyder denied Thursday that he had misled a U.S. House of Representatives committee last year over testimony on Flintâ€™s water crisis after lawmakers asked if his testimony had been contradicted by a witness in a court hearing. The House Oversight and Government Reform Committee wrote Snyder earlier Thursday asking him about published reports that one of his aides, Harvey Hollins, testified in a court hearing last week in Michigan that he had notified Snyder of an outbreak of Legionnairesâ€™ disease linked to the Flint water crisis in December 2015, rather than 2016 as Snyder had testified. â€œMy testimony was truthful and I stand by it,â€ Snyder told the committee in a letter, adding that his office has provided tens of thousands of pages of records to the committee and would continue to cooperate fully.  Last week, prosecutors in Michigan said Dr. Eden Wells, the stateâ€™s chief medical executive who already faced lesser charges, would become the sixth current or former official to face involuntary manslaughter charges in connection with the crisis. The charges stem from more than 80 cases of Legionnairesâ€™ disease and at least 12 deaths that were believed to be linked to the water in Flint after the city switched its source from Lake Huron to the Flint River in April 2014. Wells was among six current and former Michigan and Flint officials charged in June. The other five, including Michigan Health and Human Services Director Nick Lyon, were charged at the time with involuntary manslaughter\",\n",
        "    \" WATCH: Fox News Host Loses Her Sh*t, Says Investigating Russia For Hacking Our Election Is Unpatriotic This woman is insane.In an incredibly disrespectful rant against President Obama and anyone else who supports investigating Russian interference in our election, Fox News host Jeanine Pirro said that anybody who is against Donald Trump is anti-American. Look, it s time to take sides,  she began.\",\n",
        "    \" Sarah Palin Celebrates After White Man Who Pulled Gun On Black Protesters Goes Unpunished (VIDEO) Sarah Palin, one of the nigh-innumerable  deplorables  in Donald Trump s  basket,  almost outdid herself in terms of horribleness on Friday.\"\n",
        "]\n",
        "\n",
        "test_news_vectors = [preprocess_and_vectorize(n) for n in test_news]\n",
        "clf.predict(test_news_vectors)"
      ]
    },
    {
      "cell_type": "markdown",
      "metadata": {
        "id": "ppttUIGMNzk7"
      },
      "source": [
        "**Confusion Matrix for Best Model**"
      ]
    },
    {
      "cell_type": "code",
      "execution_count": 31,
      "metadata": {
        "colab": {
          "base_uri": "https://localhost:8080/",
          "height": 550
        },
        "id": "TfjngBUSBaYC",
        "outputId": "3f628998-b709-47f8-fa87-ab3a47105c18"
      },
      "outputs": [
        {
          "output_type": "execute_result",
          "data": {
            "text/plain": [
              "Text(95.72222222222221, 0.5, 'Truth')"
            ]
          },
          "metadata": {},
          "execution_count": 31
        },
        {
          "output_type": "display_data",
          "data": {
            "text/plain": [
              "<Figure size 1000x700 with 2 Axes>"
            ],
            "image/png": "[encoded data removed]"
          },
          "metadata": {}
        }
      ],
      "source": [
        "#finally print the confusion matrix for the best model (GradientBoostingClassifier)\n",
        "\n",
        "from sklearn.metrics import confusion_matrix\n",
        "cm = confusion_matrix(y_test, y_pred)\n",
        "cm\n",
        "\n",
        "\n",
        "from matplotlib import pyplot as plt\n",
        "import seaborn as sn\n",
        "plt.figure(figsize = (10,7))\n",
        "sn.heatmap(cm, annot=True, fmt='d')\n",
        "plt.xlabel('Prediction')\n",
        "plt.ylabel('Truth')"
      ]
    }
  ],
  "metadata": {
    "colab": {
      "provenance": []
    },
    "kernelspec": {
      "display_name": "Python 3",
      "language": "python",
      "name": "python3"
    },
    "language_info": {
      "codemirror_mode": {
        "name": "ipython",
        "version": 3
      },
      "file_extension": ".py",
      "mimetype": "text/x-python",
      "name": "python",
      "nbconvert_exporter": "python",
      "pygments_lexer": "ipython3",
      "version": "3.8.10"
    }
  },
  "nbformat": 4,
  "nbformat_minor": 0
}