{
  "cells": [
    {
      "cell_type": "markdown",
      "metadata": {
        "id": "view-in-github",
        "colab_type": "text"
      },
      "source": [
        "<a href=\"https://colab.research.google.com/github/sibteali786/500-AI-Machine-learning-Deep-learning-Computer-vision-NLP-Projects-with-code/blob/main/13_word_vectors_spacy_overview/overview_spacy_word_vectors.ipynb\" target=\"_parent\"><img src=\"https://colab.research.google.com/assets/colab-badge.svg\" alt=\"Open In Colab\"/></a>"
      ]
    },
    {
      "cell_type": "code",
      "execution_count": null,
      "id": "e0a80da8",
      "metadata": {
        "id": "e0a80da8"
      },
      "outputs": [],
      "source": [
        "import spacy\n",
        "\n",
        "# word vectors occupy lot of space. hence en_core_web_sm model do not have them included.\n",
        "# In order to download\n",
        "# word vectors you need to install large or medium english model. We will install the large one!\n",
        "# make sure you have run \"python -m spacy download en_core_web_lg\" to install large english model\n",
        "nlp = spacy.load(\"en_core_web_lg\")"
      ]
    },
    {
      "cell_type": "code",
      "execution_count": null,
      "id": "f7b0ef24",
      "metadata": {
        "id": "f7b0ef24",
        "outputId": "0fa65616-32c5-4543-e5eb-6a975e7f34e4"
      },
      "outputs": [
        {
          "name": "stdout",
          "output_type": "stream",
          "text": [
            "dog Vector: True OOV: False\n",
            "cat Vector: True OOV: False\n",
            "banana Vector: True OOV: False\n",
            "kem Vector: False OOV: True\n"
          ]
        }
      ],
      "source": [
        "doc = nlp(\"dog cat banana kem\")\n",
        "\n",
        "for token in doc:\n",
        "    print(token.text, \"Vector:\", token.has_vector, \"OOV:\", token.is_oov)"
      ]
    },
    {
      "cell_type": "code",
      "execution_count": null,
      "id": "c1213a20",
      "metadata": {
        "id": "c1213a20",
        "outputId": "0091506a-8f47-467e-be88-2fe6c5c3bdcb"
      },
      "outputs": [
        {
          "data": {
            "text/plain": [
              "(300,)"
            ]
          },
          "execution_count": 7,
          "metadata": {},
          "output_type": "execute_result"
        }
      ],
      "source": [
        "doc[0].vector.shape"
      ]
    },
    {
      "cell_type": "code",
      "execution_count": 10,
      "id": "e62cde6f",
      "metadata": {
        "id": "e62cde6f",
        "outputId": "5f19a638-8a84-447c-bac9-9566b61757ea",
        "colab": {
          "base_uri": "https://localhost:8080/"
        }
      },
      "outputs": [
        {
          "output_type": "execute_result",
          "data": {
            "text/plain": [
              "(300,)"
            ]
          },
          "metadata": {},
          "execution_count": 10
        }
      ],
      "source": [
        "base_token = nlp(\"bread\")\n",
        "base_token.vector.shape"
      ]
    },
    {
      "cell_type": "code",
      "execution_count": null,
      "id": "443e1130",
      "metadata": {
        "id": "443e1130",
        "outputId": "883df8ce-c5ba-48aa-bfee-2de15a86124d"
      },
      "outputs": [
        {
          "name": "stdout",
          "output_type": "stream",
          "text": [
            "bread <-> bread: 1.0\n",
            "sandwich <-> bread: 0.6341067010130894\n",
            "burger <-> bread: 0.47520687769584247\n",
            "car <-> bread: 0.06451533308853552\n",
            "tiger <-> bread: 0.04764611675903374\n",
            "human <-> bread: 0.2151154210812192\n",
            "wheat <-> bread: 0.6150360888607199\n"
          ]
        }
      ],
      "source": [
        "doc = nlp(\"bread sandwich burger car tiger human wheat\")\n",
        "\n",
        "for token in doc:\n",
        "    print(f\"{token.text} <-> {base_token.text}:\", token.similarity(base_token))"
      ]
    },
    {
      "cell_type": "code",
      "execution_count": null,
      "id": "e9c35619",
      "metadata": {
        "id": "e9c35619"
      },
      "outputs": [],
      "source": [
        "def print_similarity(base_word, words_to_compare):\n",
        "    base_token = nlp(base_word)\n",
        "    doc = nlp(words_to_compare)\n",
        "    for token in doc:\n",
        "        print(f\"{token.text} <-> {base_token.text}: \", token.similarity(base_token))"
      ]
    },
    {
      "cell_type": "code",
      "execution_count": null,
      "id": "4071a3c7",
      "metadata": {
        "id": "4071a3c7",
        "outputId": "58a19f01-60f5-4beb-8c99-16a492c74a25"
      },
      "outputs": [
        {
          "name": "stdout",
          "output_type": "stream",
          "text": [
            "apple <-> iphone:  0.4387907401919904\n",
            "samsung <-> iphone:  0.670859081425417\n",
            "iphone <-> iphone:  1.0\n",
            "dog <-> iphone:  0.08211864228011527\n",
            "kitten <-> iphone:  0.10222317834969896\n"
          ]
        }
      ],
      "source": [
        "print_similarity(\"iphone\", \"apple samsung iphone dog kitten\")"
      ]
    },
    {
      "cell_type": "code",
      "execution_count": null,
      "id": "daffd61f",
      "metadata": {
        "id": "daffd61f"
      },
      "outputs": [],
      "source": [
        "king = nlp.vocab[\"king\"].vector\n",
        "man = nlp.vocab[\"man\"].vector\n",
        "woman = nlp.vocab[\"woman\"].vector\n",
        "queen = nlp.vocab[\"queen\"].vector\n",
        "\n",
        "result = king - man + woman"
      ]
    },
    {
      "cell_type": "code",
      "execution_count": null,
      "id": "ab939b13",
      "metadata": {
        "id": "ab939b13",
        "outputId": "1113f963-64f8-4ef8-971d-f97c59479733"
      },
      "outputs": [
        {
          "data": {
            "text/plain": [
              "array([[0.6178015]], dtype=float32)"
            ]
          },
          "execution_count": 17,
          "metadata": {},
          "output_type": "execute_result"
        }
      ],
      "source": [
        "from sklearn.metrics.pairwise import cosine_similarity\n",
        "\n",
        "cosine_similarity([result], [queen])"
      ]
    }
  ],
  "metadata": {
    "kernelspec": {
      "display_name": "Python 3",
      "language": "python",
      "name": "python3"
    },
    "language_info": {
      "codemirror_mode": {
        "name": "ipython",
        "version": 3
      },
      "file_extension": ".py",
      "mimetype": "text/x-python",
      "name": "python",
      "nbconvert_exporter": "python",
      "pygments_lexer": "ipython3",
      "version": "3.8.10"
    },
    "colab": {
      "provenance": [],
      "include_colab_link": true
    }
  },
  "nbformat": 4,
  "nbformat_minor": 5
}