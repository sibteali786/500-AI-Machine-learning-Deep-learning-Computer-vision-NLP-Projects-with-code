{
  "cells": [
    {
      "cell_type": "markdown",
      "metadata": {
        "id": "view-in-github",
        "colab_type": "text"
      },
      "source": [
        "<a href=\"https://colab.research.google.com/github/sibteali786/500-AI-Machine-learning-Deep-learning-Computer-vision-NLP-Projects-with-code/blob/main/13_word_vectors_spacy_overview/overview_spacy_word_vectors.ipynb\" target=\"_parent\"><img src=\"https://colab.research.google.com/assets/colab-badge.svg\" alt=\"Open In Colab\"/></a>"
      ]
    },
    {
      "cell_type": "code",
      "source": [
        "!python -m spacy download en_core_web_lg"
      ],
      "metadata": {
        "colab": {
          "base_uri": "https://localhost:8080/"
        },
        "id": "IbQHcF44rv0Z",
        "outputId": "8f6552bc-a8c1-4fcd-c20c-fb9c92a618bf"
      },
      "id": "IbQHcF44rv0Z",
      "execution_count": 2,
      "outputs": [
        {
          "output_type": "stream",
          "name": "stdout",
          "text": [
            "Collecting en-core-web-lg==3.8.0\n",
            "  Downloading https://github.com/explosion/spacy-models/releases/download/en_core_web_lg-3.8.0/en_core_web_lg-3.8.0-py3-none-any.whl (400.7 MB)\n",
            "\u001b[2K     \u001b[90m━━━━━━━━━━━━━━━━━━━━━━━━━━━━━━━━━━━━━━━\u001b[0m \u001b[32m400.7/400.7 MB\u001b[0m \u001b[31m4.1 MB/s\u001b[0m eta \u001b[36m0:00:00\u001b[0m\n",
            "\u001b[?25hInstalling collected packages: en-core-web-lg\n",
            "Successfully installed en-core-web-lg-3.8.0\n",
            "\u001b[38;5;2m✔ Download and installation successful\u001b[0m\n",
            "You can now load the package via spacy.load('en_core_web_lg')\n",
            "\u001b[38;5;3m⚠ Restart to reload dependencies\u001b[0m\n",
            "If you are in a Jupyter or Colab notebook, you may need to restart Python in\n",
            "order to load all the package's dependencies. You can do this by selecting the\n",
            "'Restart kernel' or 'Restart runtime' option.\n"
          ]
        }
      ]
    },
    {
      "cell_type": "code",
      "execution_count": 3,
      "id": "e0a80da8",
      "metadata": {
        "id": "e0a80da8"
      },
      "outputs": [],
      "source": [
        "import spacy\n",
        "\n",
        "# word vectors occupy lot of space. hence en_core_web_sm model do not have them included.\n",
        "# In order to download\n",
        "# word vectors you need to install large or medium english model. We will install the large one!\n",
        "# make sure you have run \"python -m spacy download en_core_web_lg\" to install large english model\n",
        "nlp = spacy.load(\"en_core_web_lg\")"
      ]
    },
    {
      "cell_type": "code",
      "execution_count": 4,
      "id": "f7b0ef24",
      "metadata": {
        "colab": {
          "base_uri": "https://localhost:8080/"
        },
        "id": "f7b0ef24",
        "outputId": "603b561e-b720-4f9d-e6c2-70a196e518ae"
      },
      "outputs": [
        {
          "output_type": "stream",
          "name": "stdout",
          "text": [
            "dog Vector: True OOV: False\n",
            "cat Vector: True OOV: False\n",
            "banana Vector: True OOV: False\n",
            "kem Vector: True OOV: False\n"
          ]
        }
      ],
      "source": [
        "doc = nlp(\"dog cat banana kem\")\n",
        "\n",
        "for token in doc:\n",
        "    print(token.text, \"Vector:\", token.has_vector, \"OOV:\", token.is_oov)"
      ]
    },
    {
      "cell_type": "code",
      "execution_count": 5,
      "id": "c1213a20",
      "metadata": {
        "colab": {
          "base_uri": "https://localhost:8080/"
        },
        "id": "c1213a20",
        "outputId": "be8bcef5-fdb8-41d3-f692-310703501c4f"
      },
      "outputs": [
        {
          "output_type": "execute_result",
          "data": {
            "text/plain": [
              "(300,)"
            ]
          },
          "metadata": {},
          "execution_count": 5
        }
      ],
      "source": [
        "doc[0].vector.shape"
      ]
    },
    {
      "cell_type": "code",
      "execution_count": 9,
      "id": "e62cde6f",
      "metadata": {
        "colab": {
          "base_uri": "https://localhost:8080/"
        },
        "id": "e62cde6f",
        "outputId": "c6bc65c3-b3be-4427-b6d0-31d4317f1f43"
      },
      "outputs": [
        {
          "output_type": "execute_result",
          "data": {
            "text/plain": [
              "(300,)"
            ]
          },
          "metadata": {},
          "execution_count": 9
        }
      ],
      "source": [
        "base_token = nlp(\"bread\")\n",
        "base_token[0].vector.shape\n",
        "#  sicne size is only 1 sentence vecotor is same as word vecor\n",
        "base_token.vector.shape\n",
        "# in a multi word sentence the"
      ]
    },
    {
      "cell_type": "code",
      "execution_count": null,
      "id": "443e1130",
      "metadata": {
        "id": "443e1130",
        "outputId": "6e49a95e-615b-45d2-90c0-7680163128f7"
      },
      "outputs": [
        {
          "name": "stdout",
          "output_type": "stream",
          "text": [
            "bread <-> bread: 1.0\n",
            "sandwich <-> bread: 0.6341067010130894\n",
            "burger <-> bread: 0.47520687769584247\n",
            "car <-> bread: 0.06451533308853552\n",
            "tiger <-> bread: 0.04764611675903374\n",
            "human <-> bread: 0.2151154210812192\n",
            "wheat <-> bread: 0.6150360888607199\n"
          ]
        }
      ],
      "source": [
        "doc = nlp(\"bread sandwich burger car tiger human wheat\")\n",
        "\n",
        "for token in doc:\n",
        "    print(f\"{token.text} <-> {base_token.text}:\", token.similarity(base_token))"
      ]
    },
    {
      "cell_type": "code",
      "execution_count": null,
      "id": "e9c35619",
      "metadata": {
        "id": "e9c35619"
      },
      "outputs": [],
      "source": [
        "def print_similarity(base_word, words_to_compare):\n",
        "    base_token = nlp(base_word)\n",
        "    doc = nlp(words_to_compare)\n",
        "    for token in doc:\n",
        "        print(f\"{token.text} <-> {base_token.text}: \", token.similarity(base_token))"
      ]
    },
    {
      "cell_type": "code",
      "execution_count": null,
      "id": "4071a3c7",
      "metadata": {
        "id": "4071a3c7",
        "outputId": "f4a25c6e-73ce-40e4-ed6e-1e42a696b8ac"
      },
      "outputs": [
        {
          "name": "stdout",
          "output_type": "stream",
          "text": [
            "apple <-> iphone:  0.4387907401919904\n",
            "samsung <-> iphone:  0.670859081425417\n",
            "iphone <-> iphone:  1.0\n",
            "dog <-> iphone:  0.08211864228011527\n",
            "kitten <-> iphone:  0.10222317834969896\n"
          ]
        }
      ],
      "source": [
        "print_similarity(\"iphone\", \"apple samsung iphone dog kitten\")"
      ]
    },
    {
      "cell_type": "code",
      "execution_count": null,
      "id": "daffd61f",
      "metadata": {
        "id": "daffd61f"
      },
      "outputs": [],
      "source": [
        "king = nlp.vocab[\"king\"].vector\n",
        "man = nlp.vocab[\"man\"].vector\n",
        "woman = nlp.vocab[\"woman\"].vector\n",
        "queen = nlp.vocab[\"queen\"].vector\n",
        "\n",
        "result = king - man + woman"
      ]
    },
    {
      "cell_type": "code",
      "execution_count": null,
      "id": "ab939b13",
      "metadata": {
        "id": "ab939b13",
        "outputId": "7d616b9d-1797-45f1-83ca-91bcf430f0a6"
      },
      "outputs": [
        {
          "data": {
            "text/plain": [
              "array([[0.6178015]], dtype=float32)"
            ]
          },
          "execution_count": 17,
          "metadata": {},
          "output_type": "execute_result"
        }
      ],
      "source": [
        "from sklearn.metrics.pairwise import cosine_similarity\n",
        "\n",
        "cosine_similarity([result], [queen])"
      ]
    }
  ],
  "metadata": {
    "kernelspec": {
      "display_name": "Python 3",
      "language": "python",
      "name": "python3"
    },
    "language_info": {
      "codemirror_mode": {
        "name": "ipython",
        "version": 3
      },
      "file_extension": ".py",
      "mimetype": "text/x-python",
      "name": "python",
      "nbconvert_exporter": "python",
      "pygments_lexer": "ipython3",
      "version": "3.8.10"
    },
    "colab": {
      "provenance": [],
      "include_colab_link": true
    }
  },
  "nbformat": 4,
  "nbformat_minor": 5
}