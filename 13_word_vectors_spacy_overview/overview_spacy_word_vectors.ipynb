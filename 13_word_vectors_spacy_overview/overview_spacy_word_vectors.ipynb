{
  "cells": [
    {
      "cell_type": "markdown",
      "metadata": {
        "id": "view-in-github",
        "colab_type": "text"
      },
      "source": [
        "<a href=\"https://colab.research.google.com/github/sibteali786/500-AI-Machine-learning-Deep-learning-Computer-vision-NLP-Projects-with-code/blob/main/13_word_vectors_spacy_overview/overview_spacy_word_vectors.ipynb\" target=\"_parent\"><img src=\"https://colab.research.google.com/assets/colab-badge.svg\" alt=\"Open In Colab\"/></a>"
      ]
    },
    {
      "cell_type": "code",
      "source": [
        "!python -m spacy download en_core_web_lg"
      ],
      "metadata": {
        "colab": {
          "base_uri": "https://localhost:8080/"
        },
        "id": "ReJGURCeuHFQ",
        "outputId": "873cf88a-bd3f-47ea-db4d-2a7de96d105d"
      },
      "id": "ReJGURCeuHFQ",
      "execution_count": 2,
      "outputs": [
        {
          "output_type": "stream",
          "name": "stdout",
          "text": [
            "Collecting en-core-web-lg==3.8.0\n",
            "  Downloading https://github.com/explosion/spacy-models/releases/download/en_core_web_lg-3.8.0/en_core_web_lg-3.8.0-py3-none-any.whl (400.7 MB)\n",
            "\u001b[2K     \u001b[90m━━━━━━━━━━━━━━━━━━━━━━━━━━━━━━━━━━━━━━━\u001b[0m \u001b[32m400.7/400.7 MB\u001b[0m \u001b[31m5.2 MB/s\u001b[0m eta \u001b[36m0:00:00\u001b[0m\n",
            "\u001b[?25hInstalling collected packages: en-core-web-lg\n",
            "Successfully installed en-core-web-lg-3.8.0\n",
            "\u001b[38;5;2m✔ Download and installation successful\u001b[0m\n",
            "You can now load the package via spacy.load('en_core_web_lg')\n",
            "\u001b[38;5;3m⚠ Restart to reload dependencies\u001b[0m\n",
            "If you are in a Jupyter or Colab notebook, you may need to restart Python in\n",
            "order to load all the package's dependencies. You can do this by selecting the\n",
            "'Restart kernel' or 'Restart runtime' option.\n"
          ]
        }
      ]
    },
    {
      "cell_type": "code",
      "execution_count": 3,
      "id": "e0a80da8",
      "metadata": {
        "id": "e0a80da8"
      },
      "outputs": [],
      "source": [
        "import spacy\n",
        "\n",
        "# word vectors occupy lot of space. hence en_core_web_sm model do not have them included.\n",
        "# In order to download\n",
        "# word vectors you need to install large or medium english model. We will install the large one!\n",
        "# make sure you have run \"python -m spacy download en_core_web_lg\" to install large english model\n",
        "nlp = spacy.load(\"en_core_web_lg\")"
      ]
    },
    {
      "cell_type": "code",
      "execution_count": 4,
      "id": "f7b0ef24",
      "metadata": {
        "id": "f7b0ef24",
        "outputId": "c25eaa9d-e848-4e2d-b5a0-2797f4cd1dbe",
        "colab": {
          "base_uri": "https://localhost:8080/"
        }
      },
      "outputs": [
        {
          "output_type": "stream",
          "name": "stdout",
          "text": [
            "dog Vector: True OOV: False\n",
            "cat Vector: True OOV: False\n",
            "banana Vector: True OOV: False\n",
            "kem Vector: True OOV: False\n"
          ]
        }
      ],
      "source": [
        "doc = nlp(\"dog cat banana kem\")\n",
        "\n",
        "for token in doc:\n",
        "    print(token.text, \"Vector:\", token.has_vector, \"OOV:\", token.is_oov)"
      ]
    },
    {
      "cell_type": "code",
      "execution_count": 5,
      "id": "c1213a20",
      "metadata": {
        "id": "c1213a20",
        "outputId": "bfb87ba8-e86f-431c-97cf-b6e6bbc1a01a",
        "colab": {
          "base_uri": "https://localhost:8080/"
        }
      },
      "outputs": [
        {
          "output_type": "execute_result",
          "data": {
            "text/plain": [
              "(300,)"
            ]
          },
          "metadata": {},
          "execution_count": 5
        }
      ],
      "source": [
        "doc[0].vector.shape"
      ]
    },
    {
      "cell_type": "code",
      "execution_count": 6,
      "id": "e62cde6f",
      "metadata": {
        "id": "e62cde6f",
        "outputId": "4cb86ebf-c7f8-4ce4-ec98-d0f0e7996eb5",
        "colab": {
          "base_uri": "https://localhost:8080/"
        }
      },
      "outputs": [
        {
          "output_type": "execute_result",
          "data": {
            "text/plain": [
              "(300,)"
            ]
          },
          "metadata": {},
          "execution_count": 6
        }
      ],
      "source": [
        "base_token = nlp(\"bread\")\n",
        "base_token.vector.shape\n",
        "# since one word so sentence and word embedding is similar\n",
        "base_token[0].vector.shape"
      ]
    },
    {
      "cell_type": "code",
      "execution_count": 7,
      "id": "443e1130",
      "metadata": {
        "id": "443e1130",
        "outputId": "366b984d-f27b-44dc-86b0-0c8d92cd288b",
        "colab": {
          "base_uri": "https://localhost:8080/"
        }
      },
      "outputs": [
        {
          "output_type": "stream",
          "name": "stdout",
          "text": [
            "bread <-> bread: 1.0\n",
            "sandwich <-> bread: 0.6874560117721558\n",
            "burger <-> bread: 0.544037401676178\n",
            "car <-> bread: 0.16441147029399872\n",
            "tiger <-> bread: 0.14492356777191162\n",
            "human <-> bread: 0.21103660762310028\n",
            "wheat <-> bread: 0.6572456359863281\n"
          ]
        }
      ],
      "source": [
        "doc = nlp(\"bread sandwich burger car tiger human wheat\")\n",
        "\n",
        "for token in doc:\n",
        "    print(f\"{token.text} <-> {base_token.text}:\", token.similarity(base_token))"
      ]
    },
    {
      "cell_type": "code",
      "execution_count": 12,
      "id": "e9c35619",
      "metadata": {
        "id": "e9c35619"
      },
      "outputs": [],
      "source": [
        "def print_similarity(base_word, words_to_compare):\n",
        "  base_token = nlp(base_word)\n",
        "  doc = nlp(words_to_compare)\n",
        "  for token in doc:\n",
        "    print(f\"{token.text} <-> {base_token.text}: \", token.similarity(base_token))\n",
        "\n",
        "# words having same context would have more similarity like profit and loss\n",
        "# have more similarity in context although their meaning is different\n",
        "#  but their context of usage is same"
      ]
    },
    {
      "cell_type": "code",
      "execution_count": 10,
      "id": "4071a3c7",
      "metadata": {
        "id": "4071a3c7",
        "outputId": "ca6c4523-93c3-47db-979e-f70a8705314f",
        "colab": {
          "base_uri": "https://localhost:8080/"
        }
      },
      "outputs": [
        {
          "output_type": "stream",
          "name": "stdout",
          "text": [
            "apple <-> iphone:  0.6339781284332275\n",
            "samsung <-> iphone:  0.6678677797317505\n",
            "iphone <-> iphone:  1.0\n",
            "dog <-> iphone:  0.1743103712797165\n",
            "kitten <-> iphone:  0.1468581259250641\n"
          ]
        }
      ],
      "source": [
        "print_similarity(\"iphone\", \"apple samsung iphone dog kitten\")"
      ]
    },
    {
      "cell_type": "code",
      "execution_count": 13,
      "id": "daffd61f",
      "metadata": {
        "id": "daffd61f"
      },
      "outputs": [],
      "source": [
        "king = nlp.vocab[\"king\"].vector\n",
        "man = nlp.vocab[\"man\"].vector\n",
        "woman = nlp.vocab[\"woman\"].vector\n",
        "queen = nlp.vocab[\"queen\"].vector\n",
        "\n",
        "result = king - man + woman"
      ]
    },
    {
      "cell_type": "code",
      "execution_count": 14,
      "id": "ab939b13",
      "metadata": {
        "id": "ab939b13",
        "outputId": "004f8815-619e-43a3-b14b-3f1539703f9a",
        "colab": {
          "base_uri": "https://localhost:8080/"
        }
      },
      "outputs": [
        {
          "output_type": "execute_result",
          "data": {
            "text/plain": [
              "array([[0.78808445]], dtype=float32)"
            ]
          },
          "metadata": {},
          "execution_count": 14
        }
      ],
      "source": [
        "from sklearn.metrics.pairwise import cosine_similarity\n",
        "\n",
        "cosine_similarity([result], [queen])\n",
        "# its not 1 but close enough which shows that they are similar\n"
      ]
    }
  ],
  "metadata": {
    "kernelspec": {
      "display_name": "Python 3",
      "language": "python",
      "name": "python3"
    },
    "language_info": {
      "codemirror_mode": {
        "name": "ipython",
        "version": 3
      },
      "file_extension": ".py",
      "mimetype": "text/x-python",
      "name": "python",
      "nbconvert_exporter": "python",
      "pygments_lexer": "ipython3",
      "version": "3.8.10"
    },
    "colab": {
      "provenance": [],
      "include_colab_link": true
    }
  },
  "nbformat": 4,
  "nbformat_minor": 5
}